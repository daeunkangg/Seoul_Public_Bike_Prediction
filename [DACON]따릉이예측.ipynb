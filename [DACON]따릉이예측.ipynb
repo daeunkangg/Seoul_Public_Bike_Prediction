{
 "cells": [
  {
   "cell_type": "markdown",
   "id": "f526c1a8",
   "metadata": {},
   "source": [
    "# EDA\n",
    "## 라이브러리 불러오기\n"
   ]
  },
  {
   "cell_type": "code",
   "execution_count": 1,
   "id": "44c02457",
   "metadata": {},
   "outputs": [],
   "source": [
    "import pandas as pd"
   ]
  },
  {
   "cell_type": "markdown",
   "id": "5242eb92",
   "metadata": {},
   "source": [
    "## 파이썬 파일 불러오기"
   ]
  },
  {
   "cell_type": "code",
   "execution_count": 2,
   "id": "7981e135",
   "metadata": {},
   "outputs": [],
   "source": [
    "train = pd.read_csv('train.csv')\n",
    "test = pd.read_csv('test.csv')"
   ]
  },
  {
   "cell_type": "markdown",
   "id": "94eaf19b",
   "metadata": {},
   "source": [
    "## 행열 갯수 관찰하기"
   ]
  },
  {
   "cell_type": "code",
   "execution_count": 3,
   "id": "745f4d3b",
   "metadata": {},
   "outputs": [
    {
     "data": {
      "text/plain": [
       "(1459, 11)"
      ]
     },
     "execution_count": 3,
     "metadata": {},
     "output_type": "execute_result"
    }
   ],
   "source": [
    "train.shape"
   ]
  },
  {
   "cell_type": "code",
   "execution_count": 4,
   "id": "d472aee0",
   "metadata": {},
   "outputs": [
    {
     "data": {
      "text/plain": [
       "(715, 10)"
      ]
     },
     "execution_count": 4,
     "metadata": {},
     "output_type": "execute_result"
    }
   ],
   "source": [
    "test.shape"
   ]
  },
  {
   "cell_type": "markdown",
   "id": "a99f6bf5",
   "metadata": {},
   "source": [
    "## 처음 N줄 관찰하기"
   ]
  },
  {
   "cell_type": "code",
   "execution_count": 5,
   "id": "3aa839a7",
   "metadata": {},
   "outputs": [
    {
     "data": {
      "text/html": [
       "<div>\n",
       "<style scoped>\n",
       "    .dataframe tbody tr th:only-of-type {\n",
       "        vertical-align: middle;\n",
       "    }\n",
       "\n",
       "    .dataframe tbody tr th {\n",
       "        vertical-align: top;\n",
       "    }\n",
       "\n",
       "    .dataframe thead th {\n",
       "        text-align: right;\n",
       "    }\n",
       "</style>\n",
       "<table border=\"1\" class=\"dataframe\">\n",
       "  <thead>\n",
       "    <tr style=\"text-align: right;\">\n",
       "      <th></th>\n",
       "      <th>id</th>\n",
       "      <th>hour</th>\n",
       "      <th>hour_bef_temperature</th>\n",
       "      <th>hour_bef_precipitation</th>\n",
       "      <th>hour_bef_windspeed</th>\n",
       "      <th>hour_bef_humidity</th>\n",
       "      <th>hour_bef_visibility</th>\n",
       "      <th>hour_bef_ozone</th>\n",
       "      <th>hour_bef_pm10</th>\n",
       "      <th>hour_bef_pm2.5</th>\n",
       "      <th>count</th>\n",
       "    </tr>\n",
       "  </thead>\n",
       "  <tbody>\n",
       "    <tr>\n",
       "      <th>0</th>\n",
       "      <td>3</td>\n",
       "      <td>20</td>\n",
       "      <td>16.3</td>\n",
       "      <td>1.0</td>\n",
       "      <td>1.5</td>\n",
       "      <td>89.0</td>\n",
       "      <td>576.0</td>\n",
       "      <td>0.027</td>\n",
       "      <td>76.0</td>\n",
       "      <td>33.0</td>\n",
       "      <td>49.0</td>\n",
       "    </tr>\n",
       "    <tr>\n",
       "      <th>1</th>\n",
       "      <td>6</td>\n",
       "      <td>13</td>\n",
       "      <td>20.1</td>\n",
       "      <td>0.0</td>\n",
       "      <td>1.4</td>\n",
       "      <td>48.0</td>\n",
       "      <td>916.0</td>\n",
       "      <td>0.042</td>\n",
       "      <td>73.0</td>\n",
       "      <td>40.0</td>\n",
       "      <td>159.0</td>\n",
       "    </tr>\n",
       "    <tr>\n",
       "      <th>2</th>\n",
       "      <td>7</td>\n",
       "      <td>6</td>\n",
       "      <td>13.9</td>\n",
       "      <td>0.0</td>\n",
       "      <td>0.7</td>\n",
       "      <td>79.0</td>\n",
       "      <td>1382.0</td>\n",
       "      <td>0.033</td>\n",
       "      <td>32.0</td>\n",
       "      <td>19.0</td>\n",
       "      <td>26.0</td>\n",
       "    </tr>\n",
       "    <tr>\n",
       "      <th>3</th>\n",
       "      <td>8</td>\n",
       "      <td>23</td>\n",
       "      <td>8.1</td>\n",
       "      <td>0.0</td>\n",
       "      <td>2.7</td>\n",
       "      <td>54.0</td>\n",
       "      <td>946.0</td>\n",
       "      <td>0.040</td>\n",
       "      <td>75.0</td>\n",
       "      <td>64.0</td>\n",
       "      <td>57.0</td>\n",
       "    </tr>\n",
       "    <tr>\n",
       "      <th>4</th>\n",
       "      <td>9</td>\n",
       "      <td>18</td>\n",
       "      <td>29.5</td>\n",
       "      <td>0.0</td>\n",
       "      <td>4.8</td>\n",
       "      <td>7.0</td>\n",
       "      <td>2000.0</td>\n",
       "      <td>0.057</td>\n",
       "      <td>27.0</td>\n",
       "      <td>11.0</td>\n",
       "      <td>431.0</td>\n",
       "    </tr>\n",
       "    <tr>\n",
       "      <th>5</th>\n",
       "      <td>13</td>\n",
       "      <td>2</td>\n",
       "      <td>13.6</td>\n",
       "      <td>0.0</td>\n",
       "      <td>1.7</td>\n",
       "      <td>80.0</td>\n",
       "      <td>1073.0</td>\n",
       "      <td>0.027</td>\n",
       "      <td>34.0</td>\n",
       "      <td>15.0</td>\n",
       "      <td>39.0</td>\n",
       "    </tr>\n",
       "    <tr>\n",
       "      <th>6</th>\n",
       "      <td>14</td>\n",
       "      <td>3</td>\n",
       "      <td>10.6</td>\n",
       "      <td>0.0</td>\n",
       "      <td>1.5</td>\n",
       "      <td>58.0</td>\n",
       "      <td>1548.0</td>\n",
       "      <td>0.038</td>\n",
       "      <td>62.0</td>\n",
       "      <td>33.0</td>\n",
       "      <td>23.0</td>\n",
       "    </tr>\n",
       "    <tr>\n",
       "      <th>7</th>\n",
       "      <td>16</td>\n",
       "      <td>21</td>\n",
       "      <td>16.0</td>\n",
       "      <td>0.0</td>\n",
       "      <td>6.0</td>\n",
       "      <td>21.0</td>\n",
       "      <td>1961.0</td>\n",
       "      <td>0.050</td>\n",
       "      <td>90.0</td>\n",
       "      <td>28.0</td>\n",
       "      <td>146.0</td>\n",
       "    </tr>\n",
       "    <tr>\n",
       "      <th>8</th>\n",
       "      <td>19</td>\n",
       "      <td>9</td>\n",
       "      <td>13.8</td>\n",
       "      <td>0.0</td>\n",
       "      <td>1.9</td>\n",
       "      <td>64.0</td>\n",
       "      <td>1344.0</td>\n",
       "      <td>0.039</td>\n",
       "      <td>93.0</td>\n",
       "      <td>19.0</td>\n",
       "      <td>39.0</td>\n",
       "    </tr>\n",
       "    <tr>\n",
       "      <th>9</th>\n",
       "      <td>20</td>\n",
       "      <td>14</td>\n",
       "      <td>17.2</td>\n",
       "      <td>0.0</td>\n",
       "      <td>2.1</td>\n",
       "      <td>32.0</td>\n",
       "      <td>1571.0</td>\n",
       "      <td>0.025</td>\n",
       "      <td>64.0</td>\n",
       "      <td>19.0</td>\n",
       "      <td>83.0</td>\n",
       "    </tr>\n",
       "  </tbody>\n",
       "</table>\n",
       "</div>"
      ],
      "text/plain": [
       "   id  hour  hour_bef_temperature  hour_bef_precipitation  hour_bef_windspeed  \\\n",
       "0   3    20                  16.3                     1.0                 1.5   \n",
       "1   6    13                  20.1                     0.0                 1.4   \n",
       "2   7     6                  13.9                     0.0                 0.7   \n",
       "3   8    23                   8.1                     0.0                 2.7   \n",
       "4   9    18                  29.5                     0.0                 4.8   \n",
       "5  13     2                  13.6                     0.0                 1.7   \n",
       "6  14     3                  10.6                     0.0                 1.5   \n",
       "7  16    21                  16.0                     0.0                 6.0   \n",
       "8  19     9                  13.8                     0.0                 1.9   \n",
       "9  20    14                  17.2                     0.0                 2.1   \n",
       "\n",
       "   hour_bef_humidity  hour_bef_visibility  hour_bef_ozone  hour_bef_pm10  \\\n",
       "0               89.0                576.0           0.027           76.0   \n",
       "1               48.0                916.0           0.042           73.0   \n",
       "2               79.0               1382.0           0.033           32.0   \n",
       "3               54.0                946.0           0.040           75.0   \n",
       "4                7.0               2000.0           0.057           27.0   \n",
       "5               80.0               1073.0           0.027           34.0   \n",
       "6               58.0               1548.0           0.038           62.0   \n",
       "7               21.0               1961.0           0.050           90.0   \n",
       "8               64.0               1344.0           0.039           93.0   \n",
       "9               32.0               1571.0           0.025           64.0   \n",
       "\n",
       "   hour_bef_pm2.5  count  \n",
       "0            33.0   49.0  \n",
       "1            40.0  159.0  \n",
       "2            19.0   26.0  \n",
       "3            64.0   57.0  \n",
       "4            11.0  431.0  \n",
       "5            15.0   39.0  \n",
       "6            33.0   23.0  \n",
       "7            28.0  146.0  \n",
       "8            19.0   39.0  \n",
       "9            19.0   83.0  "
      ]
     },
     "execution_count": 5,
     "metadata": {},
     "output_type": "execute_result"
    }
   ],
   "source": [
    "train.head(10)"
   ]
  },
  {
   "cell_type": "markdown",
   "id": "c0e064fc",
   "metadata": {},
   "source": [
    "## 결측치 확인하기"
   ]
  },
  {
   "cell_type": "code",
   "execution_count": 6,
   "id": "74a6208a",
   "metadata": {},
   "outputs": [
    {
     "name": "stdout",
     "output_type": "stream",
     "text": [
      "         id   hour  hour_bef_temperature  hour_bef_precipitation  \\\n",
      "0     False  False                 False                   False   \n",
      "1     False  False                 False                   False   \n",
      "2     False  False                 False                   False   \n",
      "3     False  False                 False                   False   \n",
      "4     False  False                 False                   False   \n",
      "...     ...    ...                   ...                     ...   \n",
      "1454  False  False                 False                   False   \n",
      "1455  False  False                 False                   False   \n",
      "1456  False  False                 False                   False   \n",
      "1457  False  False                 False                   False   \n",
      "1458  False  False                 False                   False   \n",
      "\n",
      "      hour_bef_windspeed  hour_bef_humidity  hour_bef_visibility  \\\n",
      "0                  False              False                False   \n",
      "1                  False              False                False   \n",
      "2                  False              False                False   \n",
      "3                  False              False                False   \n",
      "4                  False              False                False   \n",
      "...                  ...                ...                  ...   \n",
      "1454               False              False                False   \n",
      "1455               False              False                False   \n",
      "1456               False              False                False   \n",
      "1457               False              False                False   \n",
      "1458               False              False                False   \n",
      "\n",
      "      hour_bef_ozone  hour_bef_pm10  hour_bef_pm2.5  count  \n",
      "0              False          False           False  False  \n",
      "1              False          False           False  False  \n",
      "2              False          False           False  False  \n",
      "3              False          False           False  False  \n",
      "4              False          False           False  False  \n",
      "...              ...            ...             ...    ...  \n",
      "1454           False          False           False  False  \n",
      "1455           False          False           False  False  \n",
      "1456           False          False           False  False  \n",
      "1457           False          False           False  False  \n",
      "1458           False          False           False  False  \n",
      "\n",
      "[1459 rows x 11 columns]\n",
      "\n",
      "-------------------train.csv null for each column---------------\n",
      "\n",
      "id                         0\n",
      "hour                       0\n",
      "hour_bef_temperature       1\n",
      "hour_bef_precipitation     1\n",
      "hour_bef_windspeed         1\n",
      "hour_bef_humidity          1\n",
      "hour_bef_visibility        1\n",
      "hour_bef_ozone            35\n",
      "hour_bef_pm10             37\n",
      "hour_bef_pm2.5            36\n",
      "dtype: int64\n"
     ]
    }
   ],
   "source": [
    "print(train.isnull())\n",
    "print('\\n-------------------train.csv null for each column---------------\\n')\n",
    "print(test.isnull().sum())"
   ]
  },
  {
   "cell_type": "markdown",
   "id": "bb875c91",
   "metadata": {},
   "source": [
    "# 전처리\n",
    "## 데이터 기본 정보 확인하기"
   ]
  },
  {
   "cell_type": "code",
   "execution_count": 7,
   "id": "dbc5a627",
   "metadata": {},
   "outputs": [
    {
     "name": "stdout",
     "output_type": "stream",
     "text": [
      "<class 'pandas.core.frame.DataFrame'>\n",
      "RangeIndex: 1459 entries, 0 to 1458\n",
      "Data columns (total 11 columns):\n",
      " #   Column                  Non-Null Count  Dtype  \n",
      "---  ------                  --------------  -----  \n",
      " 0   id                      1459 non-null   int64  \n",
      " 1   hour                    1459 non-null   int64  \n",
      " 2   hour_bef_temperature    1457 non-null   float64\n",
      " 3   hour_bef_precipitation  1457 non-null   float64\n",
      " 4   hour_bef_windspeed      1450 non-null   float64\n",
      " 5   hour_bef_humidity       1457 non-null   float64\n",
      " 6   hour_bef_visibility     1457 non-null   float64\n",
      " 7   hour_bef_ozone          1383 non-null   float64\n",
      " 8   hour_bef_pm10           1369 non-null   float64\n",
      " 9   hour_bef_pm2.5          1342 non-null   float64\n",
      " 10  count                   1459 non-null   float64\n",
      "dtypes: float64(9), int64(2)\n",
      "memory usage: 125.5 KB\n",
      "None\n",
      "\n",
      "---------------------------------------------\n",
      "\n",
      "<class 'pandas.core.frame.DataFrame'>\n",
      "RangeIndex: 715 entries, 0 to 714\n",
      "Data columns (total 10 columns):\n",
      " #   Column                  Non-Null Count  Dtype  \n",
      "---  ------                  --------------  -----  \n",
      " 0   id                      715 non-null    int64  \n",
      " 1   hour                    715 non-null    int64  \n",
      " 2   hour_bef_temperature    714 non-null    float64\n",
      " 3   hour_bef_precipitation  714 non-null    float64\n",
      " 4   hour_bef_windspeed      714 non-null    float64\n",
      " 5   hour_bef_humidity       714 non-null    float64\n",
      " 6   hour_bef_visibility     714 non-null    float64\n",
      " 7   hour_bef_ozone          680 non-null    float64\n",
      " 8   hour_bef_pm10           678 non-null    float64\n",
      " 9   hour_bef_pm2.5          679 non-null    float64\n",
      "dtypes: float64(8), int64(2)\n",
      "memory usage: 56.0 KB\n",
      "None\n"
     ]
    }
   ],
   "source": [
    "print(train.info())\n",
    "print('\\n---------------------------------------------\\n')\n",
    "print(test.info())"
   ]
  },
  {
   "cell_type": "markdown",
   "id": "15ea6b4b",
   "metadata": {},
   "source": [
    "## 결측치 삭제, 대체하기"
   ]
  },
  {
   "cell_type": "code",
   "execution_count": 8,
   "id": "566857d3",
   "metadata": {},
   "outputs": [],
   "source": [
    "train = train.dropna()\n",
    "test = test.fillna(0)"
   ]
  },
  {
   "cell_type": "markdown",
   "id": "48026a2e",
   "metadata": {},
   "source": [
    "# 모델링_의사결정회귀나무로 따릉이 데이터 예측하기\n",
    "## scikit-learn"
   ]
  },
  {
   "cell_type": "code",
   "execution_count": 9,
   "id": "474def33",
   "metadata": {},
   "outputs": [],
   "source": [
    "import sklearn\n",
    "from sklearn.tree import DecisionTreeClassifier\n",
    "from sklearn.tree import DecisionTreeRegressor"
   ]
  },
  {
   "cell_type": "markdown",
   "id": "b7b9bf61",
   "metadata": {},
   "source": [
    "## 의사결정나무\n",
    "데이터에서 각 행은 피쳐를 가지고 있음. 이 중 하나의 피쳐를 통해서 해당 피쳐의 값에 대해 특정 하나의 값을 정한다면, 이를 기준으로 모든 행은 두 개의 노드(Node)로 분류(Binary decision rule, 이진분할) 할 수 있음. 이 과정을 반복하면 피쳐의 값에 따라 데이터가 분류됨. 이 때 특정한 값을 정하는 의사결정 나무의 대원칙은 한쪽 방향으로 쏠리도록! 이를 불순도를 통해 계산해서 찾아나감."
   ]
  },
  {
   "cell_type": "code",
   "execution_count": 10,
   "id": "c92f6a15",
   "metadata": {},
   "outputs": [],
   "source": [
    "model = DecisionTreeClassifier()"
   ]
  },
  {
   "cell_type": "markdown",
   "id": "b19f7770",
   "metadata": {},
   "source": [
    "## 의사결정나무 훈련\n",
    "모델을 선언한 후, fit(X,Y)를 통해 모델 훈련. 여기서 주의해야 할 점은 X 데이터는 예측에 사용되는 변수고, Y는 예측결과 변수여야 함. \\n\n",
    "X는 트레인에서 예측할 피쳐 제외 \\n\n",
    "Y는 예측할 컬럼으로 인덱싱 \\n"
   ]
  },
  {
   "cell_type": "code",
   "execution_count": 11,
   "id": "1fb15774",
   "metadata": {},
   "outputs": [],
   "source": [
    "'''train 데이터중 예측해야할 count 피쳐를 drop()함수를 사용하고, \n",
    "axis=1 옵션을 사용해 해당 열을 제외한 데이터들을 X_train 이라는 이름의 DataFrame 객체로 만들고 \n",
    "count 피쳐만을 데이터로 갖는 Y_train 이라는 이름의 DataFrame 객체로 만드는 코드를 아래에 작성하세요'''\n",
    "X_train = train.drop(['count'], axis=1)\n",
    "Y_train = train['count']"
   ]
  },
  {
   "cell_type": "code",
   "execution_count": 12,
   "id": "f5e46747",
   "metadata": {},
   "outputs": [
    {
     "data": {
      "text/html": [
       "<style>#sk-container-id-1 {color: black;background-color: white;}#sk-container-id-1 pre{padding: 0;}#sk-container-id-1 div.sk-toggleable {background-color: white;}#sk-container-id-1 label.sk-toggleable__label {cursor: pointer;display: block;width: 100%;margin-bottom: 0;padding: 0.3em;box-sizing: border-box;text-align: center;}#sk-container-id-1 label.sk-toggleable__label-arrow:before {content: \"▸\";float: left;margin-right: 0.25em;color: #696969;}#sk-container-id-1 label.sk-toggleable__label-arrow:hover:before {color: black;}#sk-container-id-1 div.sk-estimator:hover label.sk-toggleable__label-arrow:before {color: black;}#sk-container-id-1 div.sk-toggleable__content {max-height: 0;max-width: 0;overflow: hidden;text-align: left;background-color: #f0f8ff;}#sk-container-id-1 div.sk-toggleable__content pre {margin: 0.2em;color: black;border-radius: 0.25em;background-color: #f0f8ff;}#sk-container-id-1 input.sk-toggleable__control:checked~div.sk-toggleable__content {max-height: 200px;max-width: 100%;overflow: auto;}#sk-container-id-1 input.sk-toggleable__control:checked~label.sk-toggleable__label-arrow:before {content: \"▾\";}#sk-container-id-1 div.sk-estimator input.sk-toggleable__control:checked~label.sk-toggleable__label {background-color: #d4ebff;}#sk-container-id-1 div.sk-label input.sk-toggleable__control:checked~label.sk-toggleable__label {background-color: #d4ebff;}#sk-container-id-1 input.sk-hidden--visually {border: 0;clip: rect(1px 1px 1px 1px);clip: rect(1px, 1px, 1px, 1px);height: 1px;margin: -1px;overflow: hidden;padding: 0;position: absolute;width: 1px;}#sk-container-id-1 div.sk-estimator {font-family: monospace;background-color: #f0f8ff;border: 1px dotted black;border-radius: 0.25em;box-sizing: border-box;margin-bottom: 0.5em;}#sk-container-id-1 div.sk-estimator:hover {background-color: #d4ebff;}#sk-container-id-1 div.sk-parallel-item::after {content: \"\";width: 100%;border-bottom: 1px solid gray;flex-grow: 1;}#sk-container-id-1 div.sk-label:hover label.sk-toggleable__label {background-color: #d4ebff;}#sk-container-id-1 div.sk-serial::before {content: \"\";position: absolute;border-left: 1px solid gray;box-sizing: border-box;top: 0;bottom: 0;left: 50%;z-index: 0;}#sk-container-id-1 div.sk-serial {display: flex;flex-direction: column;align-items: center;background-color: white;padding-right: 0.2em;padding-left: 0.2em;position: relative;}#sk-container-id-1 div.sk-item {position: relative;z-index: 1;}#sk-container-id-1 div.sk-parallel {display: flex;align-items: stretch;justify-content: center;background-color: white;position: relative;}#sk-container-id-1 div.sk-item::before, #sk-container-id-1 div.sk-parallel-item::before {content: \"\";position: absolute;border-left: 1px solid gray;box-sizing: border-box;top: 0;bottom: 0;left: 50%;z-index: -1;}#sk-container-id-1 div.sk-parallel-item {display: flex;flex-direction: column;z-index: 1;position: relative;background-color: white;}#sk-container-id-1 div.sk-parallel-item:first-child::after {align-self: flex-end;width: 50%;}#sk-container-id-1 div.sk-parallel-item:last-child::after {align-self: flex-start;width: 50%;}#sk-container-id-1 div.sk-parallel-item:only-child::after {width: 0;}#sk-container-id-1 div.sk-dashed-wrapped {border: 1px dashed gray;margin: 0 0.4em 0.5em 0.4em;box-sizing: border-box;padding-bottom: 0.4em;background-color: white;}#sk-container-id-1 div.sk-label label {font-family: monospace;font-weight: bold;display: inline-block;line-height: 1.2em;}#sk-container-id-1 div.sk-label-container {text-align: center;}#sk-container-id-1 div.sk-container {/* jupyter's `normalize.less` sets `[hidden] { display: none; }` but bootstrap.min.css set `[hidden] { display: none !important; }` so we also need the `!important` here to be able to override the default hidden behavior on the sphinx rendered scikit-learn.org. See: https://github.com/scikit-learn/scikit-learn/issues/21755 */display: inline-block !important;position: relative;}#sk-container-id-1 div.sk-text-repr-fallback {display: none;}</style><div id=\"sk-container-id-1\" class=\"sk-top-container\"><div class=\"sk-text-repr-fallback\"><pre>DecisionTreeRegressor()</pre><b>In a Jupyter environment, please rerun this cell to show the HTML representation or trust the notebook. <br />On GitHub, the HTML representation is unable to render, please try loading this page with nbviewer.org.</b></div><div class=\"sk-container\" hidden><div class=\"sk-item\"><div class=\"sk-estimator sk-toggleable\"><input class=\"sk-toggleable__control sk-hidden--visually\" id=\"sk-estimator-id-1\" type=\"checkbox\" checked><label for=\"sk-estimator-id-1\" class=\"sk-toggleable__label sk-toggleable__label-arrow\">DecisionTreeRegressor</label><div class=\"sk-toggleable__content\"><pre>DecisionTreeRegressor()</pre></div></div></div></div></div>"
      ],
      "text/plain": [
       "DecisionTreeRegressor()"
      ]
     },
     "execution_count": 12,
     "metadata": {},
     "output_type": "execute_result"
    }
   ],
   "source": [
    "'''model 변수명으로 모델을 선언하고, fit() 함수를 사용해서, \n",
    "X_train 을 input 으로 삼고, \n",
    "Y_train 을 output 으로 삼아 모델을 훈련시키는 코드를 아래에 작성하세요'''\n",
    "model = DecisionTreeRegressor()\n",
    "model.fit(X_train, Y_train)"
   ]
  },
  {
   "cell_type": "markdown",
   "id": "772adeae",
   "metadata": {},
   "source": [
    "## 테스트 예측\n",
    "훈련된 모델에서 predict() 매서드에 예측하고자 하는 data 를 인자로 넣어주게 되면 해당 결과 array 를 할당할 수 있습니다."
   ]
  },
  {
   "cell_type": "code",
   "execution_count": 13,
   "id": "4e250d3c",
   "metadata": {},
   "outputs": [
    {
     "data": {
      "text/plain": [
       "array([106., 164., 104.,  49.,  93.])"
      ]
     },
     "execution_count": 13,
     "metadata": {},
     "output_type": "execute_result"
    }
   ],
   "source": [
    "'''predict() 를 이용해 test data 를 훈련된 모델로 예측한 data 를 생성하고 \n",
    "예측결과 상위 5개를 출력하는 코드를 작성하세요.'''\n",
    "\n",
    "\n",
    "pred = model.predict(test)\n",
    "pred[:5]"
   ]
  },
  {
   "cell_type": "markdown",
   "id": "bf0ea8b2",
   "metadata": {},
   "source": [
    "## 제출파일생성"
   ]
  },
  {
   "cell_type": "code",
   "execution_count": 14,
   "id": "0608aec8",
   "metadata": {},
   "outputs": [],
   "source": [
    "submission = pd.read_csv('submission.csv')\n",
    "submission['count'] = pred\n",
    "submission.to_csv('sub.csv', index=False)"
   ]
  },
  {
   "cell_type": "markdown",
   "id": "c57e7ebd",
   "metadata": {},
   "source": [
    "# 전처리_결측치 보간법\n",
    "앞선 예제에서는 결측치를 0으로 대체했지만, 보다 나은 모델 성능을 위해서 결측치를 평균값을 대체"
   ]
  },
  {
   "cell_type": "markdown",
   "id": "84a1a844",
   "metadata": {},
   "source": [
    "## 결측치 평균으로 대체"
   ]
  },
  {
   "cell_type": "code",
   "execution_count": 15,
   "id": "8cc4c186",
   "metadata": {},
   "outputs": [],
   "source": [
    "train = pd.read_csv('train.csv')\n",
    "test = pd.read_csv('test.csv')"
   ]
  },
  {
   "cell_type": "code",
   "execution_count": 16,
   "id": "b4a1ff6c",
   "metadata": {},
   "outputs": [
    {
     "name": "stdout",
     "output_type": "stream",
     "text": [
      "id                          0\n",
      "hour                        0\n",
      "hour_bef_temperature        2\n",
      "hour_bef_precipitation      2\n",
      "hour_bef_windspeed          9\n",
      "hour_bef_humidity           2\n",
      "hour_bef_visibility         2\n",
      "hour_bef_ozone             76\n",
      "hour_bef_pm10              90\n",
      "hour_bef_pm2.5            117\n",
      "count                       0\n",
      "dtype: int64\n",
      "id                         0\n",
      "hour                       0\n",
      "hour_bef_temperature       1\n",
      "hour_bef_precipitation     1\n",
      "hour_bef_windspeed         1\n",
      "hour_bef_humidity          1\n",
      "hour_bef_visibility        1\n",
      "hour_bef_ozone            35\n",
      "hour_bef_pm10             37\n",
      "hour_bef_pm2.5            36\n",
      "dtype: int64\n"
     ]
    }
   ],
   "source": [
    "print(train.isnull().sum())\n",
    "print(test.isnull().sum())"
   ]
  },
  {
   "cell_type": "code",
   "execution_count": 17,
   "id": "33bdec5d",
   "metadata": {},
   "outputs": [],
   "source": [
    "train.fillna({'hour_bef_temperature':int(train['hour_bef_temperature'].mean())}, inplace=True)\n",
    "train.fillna({'hour_bef_precipitation':int(train['hour_bef_precipitation'].mean())}, inplace=True)\n",
    "train.fillna({'hour_bef_windspeed':int(train['hour_bef_windspeed'].mean())}, inplace=True)\n",
    "train.fillna({'hour_bef_humidity':int(train['hour_bef_humidity'].mean())}, inplace=True)\n",
    "train.fillna({'hour_bef_visibility':int(train['hour_bef_visibility'].mean())}, inplace=True)\n",
    "train.fillna({'hour_bef_ozone':int(train['hour_bef_ozone'].mean())}, inplace=True)\n",
    "train.fillna({'hour_bef_pm10':int(train['hour_bef_pm10'].mean())}, inplace=True)\n",
    "train.fillna({'hour_bef_pm2.5':int(train['hour_bef_pm2.5'].mean())}, inplace=True)"
   ]
  },
  {
   "cell_type": "code",
   "execution_count": 18,
   "id": "a239de77",
   "metadata": {},
   "outputs": [
    {
     "name": "stdout",
     "output_type": "stream",
     "text": [
      "id                        0\n",
      "hour                      0\n",
      "hour_bef_temperature      0\n",
      "hour_bef_precipitation    0\n",
      "hour_bef_windspeed        0\n",
      "hour_bef_humidity         0\n",
      "hour_bef_visibility       0\n",
      "hour_bef_ozone            0\n",
      "hour_bef_pm10             0\n",
      "hour_bef_pm2.5            0\n",
      "count                     0\n",
      "dtype: int64\n"
     ]
    }
   ],
   "source": [
    "print(train.isnull().sum())"
   ]
  },
  {
   "cell_type": "markdown",
   "id": "4e23fefd",
   "metadata": {},
   "source": [
    "## 결측치 보간법으로 대체\n",
    "피쳐의 정보성을 강조하기 위해 보간법을 사용해 결측치 채워보기. 이번 피쳐는 기상정보, 데이터 순서는 시간 순서. 따라서 결측치를 이전 행과 다음 행의 평균으로 보간하는 것이 합리적인 것으로 보임."
   ]
  },
  {
   "cell_type": "code",
   "execution_count": 19,
   "id": "352f82ef",
   "metadata": {},
   "outputs": [],
   "source": [
    "train = pd.read_csv('train.csv')\n",
    "test = pd.read_csv('test.csv')\n",
    "train.interpolate(inplace=True)"
   ]
  },
  {
   "cell_type": "markdown",
   "id": "a250a2be",
   "metadata": {},
   "source": [
    "# 모델링_랜덤포레스트\n",
    "랜덤포레스트는 여러 개의 의사결정나무를 만들어서 이들의 평균으로 예측 성능 높이는 방법. 이러한 기법은 앙상블 기법이라 함. 주어진 하나의 데이터로부터 여러 개의 랜덤 데이터셋을 추출해, 각 데이터셋을 통해 모델을 여러 개 만들 수 있음."
   ]
  },
  {
   "cell_type": "code",
   "execution_count": 20,
   "id": "5cb490bb",
   "metadata": {},
   "outputs": [],
   "source": [
    "from sklearn.ensemble import RandomForestRegressor\n",
    "model = RandomForestRegressor()"
   ]
  },
  {
   "cell_type": "markdown",
   "id": "b27629ae",
   "metadata": {},
   "source": [
    "## 랜덤포레스트를 평가척도에 맞게 학습\n",
    "랜덤포레스트 모듈 중 옵션인 criterion 옵션을 통해 어떤 평가척도를 기준으로 훈련할 것인지 정할 수 있음. 따릉이 대회 평가지표는 RMSE로, 이는 MSE에 루트를 씌운 값, 모델 선언할 때 criterion='mse'옵션으로 구현 가능"
   ]
  },
  {
   "cell_type": "code",
   "execution_count": 21,
   "id": "59da2027",
   "metadata": {},
   "outputs": [],
   "source": [
    "X_train = train.drop(['count'], axis=1)\n",
    "Y_train = train['count']"
   ]
  },
  {
   "cell_type": "code",
   "execution_count": 22,
   "id": "eb4ab090",
   "metadata": {},
   "outputs": [
    {
     "name": "stderr",
     "output_type": "stream",
     "text": [
      "/Users/daeun/opt/anaconda3/lib/python3.8/site-packages/sklearn/ensemble/_forest.py:400: FutureWarning: Criterion 'mse' was deprecated in v1.0 and will be removed in version 1.2. Use `criterion='squared_error'` which is equivalent.\n",
      "  warn(\n"
     ]
    },
    {
     "data": {
      "text/html": [
       "<style>#sk-container-id-2 {color: black;background-color: white;}#sk-container-id-2 pre{padding: 0;}#sk-container-id-2 div.sk-toggleable {background-color: white;}#sk-container-id-2 label.sk-toggleable__label {cursor: pointer;display: block;width: 100%;margin-bottom: 0;padding: 0.3em;box-sizing: border-box;text-align: center;}#sk-container-id-2 label.sk-toggleable__label-arrow:before {content: \"▸\";float: left;margin-right: 0.25em;color: #696969;}#sk-container-id-2 label.sk-toggleable__label-arrow:hover:before {color: black;}#sk-container-id-2 div.sk-estimator:hover label.sk-toggleable__label-arrow:before {color: black;}#sk-container-id-2 div.sk-toggleable__content {max-height: 0;max-width: 0;overflow: hidden;text-align: left;background-color: #f0f8ff;}#sk-container-id-2 div.sk-toggleable__content pre {margin: 0.2em;color: black;border-radius: 0.25em;background-color: #f0f8ff;}#sk-container-id-2 input.sk-toggleable__control:checked~div.sk-toggleable__content {max-height: 200px;max-width: 100%;overflow: auto;}#sk-container-id-2 input.sk-toggleable__control:checked~label.sk-toggleable__label-arrow:before {content: \"▾\";}#sk-container-id-2 div.sk-estimator input.sk-toggleable__control:checked~label.sk-toggleable__label {background-color: #d4ebff;}#sk-container-id-2 div.sk-label input.sk-toggleable__control:checked~label.sk-toggleable__label {background-color: #d4ebff;}#sk-container-id-2 input.sk-hidden--visually {border: 0;clip: rect(1px 1px 1px 1px);clip: rect(1px, 1px, 1px, 1px);height: 1px;margin: -1px;overflow: hidden;padding: 0;position: absolute;width: 1px;}#sk-container-id-2 div.sk-estimator {font-family: monospace;background-color: #f0f8ff;border: 1px dotted black;border-radius: 0.25em;box-sizing: border-box;margin-bottom: 0.5em;}#sk-container-id-2 div.sk-estimator:hover {background-color: #d4ebff;}#sk-container-id-2 div.sk-parallel-item::after {content: \"\";width: 100%;border-bottom: 1px solid gray;flex-grow: 1;}#sk-container-id-2 div.sk-label:hover label.sk-toggleable__label {background-color: #d4ebff;}#sk-container-id-2 div.sk-serial::before {content: \"\";position: absolute;border-left: 1px solid gray;box-sizing: border-box;top: 0;bottom: 0;left: 50%;z-index: 0;}#sk-container-id-2 div.sk-serial {display: flex;flex-direction: column;align-items: center;background-color: white;padding-right: 0.2em;padding-left: 0.2em;position: relative;}#sk-container-id-2 div.sk-item {position: relative;z-index: 1;}#sk-container-id-2 div.sk-parallel {display: flex;align-items: stretch;justify-content: center;background-color: white;position: relative;}#sk-container-id-2 div.sk-item::before, #sk-container-id-2 div.sk-parallel-item::before {content: \"\";position: absolute;border-left: 1px solid gray;box-sizing: border-box;top: 0;bottom: 0;left: 50%;z-index: -1;}#sk-container-id-2 div.sk-parallel-item {display: flex;flex-direction: column;z-index: 1;position: relative;background-color: white;}#sk-container-id-2 div.sk-parallel-item:first-child::after {align-self: flex-end;width: 50%;}#sk-container-id-2 div.sk-parallel-item:last-child::after {align-self: flex-start;width: 50%;}#sk-container-id-2 div.sk-parallel-item:only-child::after {width: 0;}#sk-container-id-2 div.sk-dashed-wrapped {border: 1px dashed gray;margin: 0 0.4em 0.5em 0.4em;box-sizing: border-box;padding-bottom: 0.4em;background-color: white;}#sk-container-id-2 div.sk-label label {font-family: monospace;font-weight: bold;display: inline-block;line-height: 1.2em;}#sk-container-id-2 div.sk-label-container {text-align: center;}#sk-container-id-2 div.sk-container {/* jupyter's `normalize.less` sets `[hidden] { display: none; }` but bootstrap.min.css set `[hidden] { display: none !important; }` so we also need the `!important` here to be able to override the default hidden behavior on the sphinx rendered scikit-learn.org. See: https://github.com/scikit-learn/scikit-learn/issues/21755 */display: inline-block !important;position: relative;}#sk-container-id-2 div.sk-text-repr-fallback {display: none;}</style><div id=\"sk-container-id-2\" class=\"sk-top-container\"><div class=\"sk-text-repr-fallback\"><pre>RandomForestRegressor(criterion=&#x27;mse&#x27;)</pre><b>In a Jupyter environment, please rerun this cell to show the HTML representation or trust the notebook. <br />On GitHub, the HTML representation is unable to render, please try loading this page with nbviewer.org.</b></div><div class=\"sk-container\" hidden><div class=\"sk-item\"><div class=\"sk-estimator sk-toggleable\"><input class=\"sk-toggleable__control sk-hidden--visually\" id=\"sk-estimator-id-2\" type=\"checkbox\" checked><label for=\"sk-estimator-id-2\" class=\"sk-toggleable__label sk-toggleable__label-arrow\">RandomForestRegressor</label><div class=\"sk-toggleable__content\"><pre>RandomForestRegressor(criterion=&#x27;mse&#x27;)</pre></div></div></div></div></div>"
      ],
      "text/plain": [
       "RandomForestRegressor(criterion='mse')"
      ]
     },
     "execution_count": 22,
     "metadata": {},
     "output_type": "execute_result"
    }
   ],
   "source": [
    "model = RandomForestRegressor(criterion = 'mse')\n",
    "model.fit(X_train, Y_train)"
   ]
  },
  {
   "cell_type": "markdown",
   "id": "b257ebeb",
   "metadata": {},
   "source": [
    "# 튜닝"
   ]
  },
  {
   "cell_type": "markdown",
   "id": "845055ce",
   "metadata": {},
   "source": [
    "## 랜덤포레스트 변수중요도 확인\n",
    "\n",
    "fit()으로 모델이 학습되고 나면 feature_importances 속성으로 변수의 중요도를 파악할 수 있음. 변수의 중요도란 예측변수를 결정할 때 피쳐가 얼마나 중요한 역할을 하는지에 대한 척도로, 변수 중요다가 낮다면 해당 피쳐를 제거하는 것이 모델의 성능을 높일 수 있음. \n"
   ]
  },
  {
   "cell_type": "code",
   "execution_count": 23,
   "id": "48720981",
   "metadata": {},
   "outputs": [
    {
     "data": {
      "text/plain": [
       "array([0.0270918 , 0.59605745, 0.18114846, 0.01834141, 0.0259341 ,\n",
       "       0.03588705, 0.03221615, 0.03353154, 0.03030909, 0.01948295])"
      ]
     },
     "execution_count": 23,
     "metadata": {},
     "output_type": "execute_result"
    }
   ],
   "source": [
    "model.feature_importances_"
   ]
  },
  {
   "cell_type": "markdown",
   "id": "6986341e",
   "metadata": {},
   "source": [
    "## 변수 제거\n",
    "변수중요도가 낮은 피쳐를 파악하고 나면 차례대로 하나의 피쳐를 제거하면 모델 새롭게 훈련 가능. 각 모델로 예측해 성능 비교. id,hour_bef_windspeed, hour_bef_pm2.5 는 예측에 의미가 없는 피쳐. 3쌍의 트레인 셋과 테스트셋 만들기. 이에 따라 각 모델로 예측한 값을 저장"
   ]
  },
  {
   "cell_type": "code",
   "execution_count": 41,
   "id": "ea7d2d81",
   "metadata": {},
   "outputs": [],
   "source": [
    "# X_train 에서 drop 할 피쳐의 경우에 수 대로 3개의 X_train 을 생성하세요.\n",
    "\n",
    "X_train_1 = train.drop(['count','id'], axis=1)\n",
    "X_train_2 = train.drop(['count', 'id', 'hour_bef_windspeed'], axis=1)\n",
    "X_train_3 = train.drop(['count', 'id', 'hour_bef_windspeed', 'hour_bef_pm2.5'], axis=1)\n",
    "\n",
    "# 각 train 에 따라 동일하게 피쳐를 drop 한 test 셋들을 생성하세요.\n",
    "\n",
    "test_1 = test.drop(['id'], axis=1)\n",
    "test_2 = test.drop(['id', 'hour_bef_windspeed'], axis=1)\n",
    "test_3 = test.drop(['id', 'hour_bef_windspeed', 'hour_bef_pm2.5'], axis=1)"
   ]
  },
  {
   "cell_type": "code",
   "execution_count": 49,
   "id": "ccfe3622",
   "metadata": {},
   "outputs": [],
   "source": [
    "test_1.interpolate(inplace=True)\n",
    "test_2.interpolate(inplace=True)\n",
    "test_3.interpolate(inplace=True)\n",
    "test.interpolate(inplace=True)"
   ]
  },
  {
   "cell_type": "code",
   "execution_count": 42,
   "id": "ced2777a",
   "metadata": {},
   "outputs": [
    {
     "name": "stderr",
     "output_type": "stream",
     "text": [
      "/Users/daeun/opt/anaconda3/lib/python3.8/site-packages/sklearn/ensemble/_forest.py:400: FutureWarning: Criterion 'mse' was deprecated in v1.0 and will be removed in version 1.2. Use `criterion='squared_error'` which is equivalent.\n",
      "  warn(\n",
      "/Users/daeun/opt/anaconda3/lib/python3.8/site-packages/sklearn/ensemble/_forest.py:400: FutureWarning: Criterion 'mse' was deprecated in v1.0 and will be removed in version 1.2. Use `criterion='squared_error'` which is equivalent.\n",
      "  warn(\n",
      "/Users/daeun/opt/anaconda3/lib/python3.8/site-packages/sklearn/ensemble/_forest.py:400: FutureWarning: Criterion 'mse' was deprecated in v1.0 and will be removed in version 1.2. Use `criterion='squared_error'` which is equivalent.\n",
      "  warn(\n"
     ]
    },
    {
     "data": {
      "text/html": [
       "<style>#sk-container-id-5 {color: black;background-color: white;}#sk-container-id-5 pre{padding: 0;}#sk-container-id-5 div.sk-toggleable {background-color: white;}#sk-container-id-5 label.sk-toggleable__label {cursor: pointer;display: block;width: 100%;margin-bottom: 0;padding: 0.3em;box-sizing: border-box;text-align: center;}#sk-container-id-5 label.sk-toggleable__label-arrow:before {content: \"▸\";float: left;margin-right: 0.25em;color: #696969;}#sk-container-id-5 label.sk-toggleable__label-arrow:hover:before {color: black;}#sk-container-id-5 div.sk-estimator:hover label.sk-toggleable__label-arrow:before {color: black;}#sk-container-id-5 div.sk-toggleable__content {max-height: 0;max-width: 0;overflow: hidden;text-align: left;background-color: #f0f8ff;}#sk-container-id-5 div.sk-toggleable__content pre {margin: 0.2em;color: black;border-radius: 0.25em;background-color: #f0f8ff;}#sk-container-id-5 input.sk-toggleable__control:checked~div.sk-toggleable__content {max-height: 200px;max-width: 100%;overflow: auto;}#sk-container-id-5 input.sk-toggleable__control:checked~label.sk-toggleable__label-arrow:before {content: \"▾\";}#sk-container-id-5 div.sk-estimator input.sk-toggleable__control:checked~label.sk-toggleable__label {background-color: #d4ebff;}#sk-container-id-5 div.sk-label input.sk-toggleable__control:checked~label.sk-toggleable__label {background-color: #d4ebff;}#sk-container-id-5 input.sk-hidden--visually {border: 0;clip: rect(1px 1px 1px 1px);clip: rect(1px, 1px, 1px, 1px);height: 1px;margin: -1px;overflow: hidden;padding: 0;position: absolute;width: 1px;}#sk-container-id-5 div.sk-estimator {font-family: monospace;background-color: #f0f8ff;border: 1px dotted black;border-radius: 0.25em;box-sizing: border-box;margin-bottom: 0.5em;}#sk-container-id-5 div.sk-estimator:hover {background-color: #d4ebff;}#sk-container-id-5 div.sk-parallel-item::after {content: \"\";width: 100%;border-bottom: 1px solid gray;flex-grow: 1;}#sk-container-id-5 div.sk-label:hover label.sk-toggleable__label {background-color: #d4ebff;}#sk-container-id-5 div.sk-serial::before {content: \"\";position: absolute;border-left: 1px solid gray;box-sizing: border-box;top: 0;bottom: 0;left: 50%;z-index: 0;}#sk-container-id-5 div.sk-serial {display: flex;flex-direction: column;align-items: center;background-color: white;padding-right: 0.2em;padding-left: 0.2em;position: relative;}#sk-container-id-5 div.sk-item {position: relative;z-index: 1;}#sk-container-id-5 div.sk-parallel {display: flex;align-items: stretch;justify-content: center;background-color: white;position: relative;}#sk-container-id-5 div.sk-item::before, #sk-container-id-5 div.sk-parallel-item::before {content: \"\";position: absolute;border-left: 1px solid gray;box-sizing: border-box;top: 0;bottom: 0;left: 50%;z-index: -1;}#sk-container-id-5 div.sk-parallel-item {display: flex;flex-direction: column;z-index: 1;position: relative;background-color: white;}#sk-container-id-5 div.sk-parallel-item:first-child::after {align-self: flex-end;width: 50%;}#sk-container-id-5 div.sk-parallel-item:last-child::after {align-self: flex-start;width: 50%;}#sk-container-id-5 div.sk-parallel-item:only-child::after {width: 0;}#sk-container-id-5 div.sk-dashed-wrapped {border: 1px dashed gray;margin: 0 0.4em 0.5em 0.4em;box-sizing: border-box;padding-bottom: 0.4em;background-color: white;}#sk-container-id-5 div.sk-label label {font-family: monospace;font-weight: bold;display: inline-block;line-height: 1.2em;}#sk-container-id-5 div.sk-label-container {text-align: center;}#sk-container-id-5 div.sk-container {/* jupyter's `normalize.less` sets `[hidden] { display: none; }` but bootstrap.min.css set `[hidden] { display: none !important; }` so we also need the `!important` here to be able to override the default hidden behavior on the sphinx rendered scikit-learn.org. See: https://github.com/scikit-learn/scikit-learn/issues/21755 */display: inline-block !important;position: relative;}#sk-container-id-5 div.sk-text-repr-fallback {display: none;}</style><div id=\"sk-container-id-5\" class=\"sk-top-container\"><div class=\"sk-text-repr-fallback\"><pre>RandomForestRegressor(criterion=&#x27;mse&#x27;)</pre><b>In a Jupyter environment, please rerun this cell to show the HTML representation or trust the notebook. <br />On GitHub, the HTML representation is unable to render, please try loading this page with nbviewer.org.</b></div><div class=\"sk-container\" hidden><div class=\"sk-item\"><div class=\"sk-estimator sk-toggleable\"><input class=\"sk-toggleable__control sk-hidden--visually\" id=\"sk-estimator-id-5\" type=\"checkbox\" checked><label for=\"sk-estimator-id-5\" class=\"sk-toggleable__label sk-toggleable__label-arrow\">RandomForestRegressor</label><div class=\"sk-toggleable__content\"><pre>RandomForestRegressor(criterion=&#x27;mse&#x27;)</pre></div></div></div></div></div>"
      ],
      "text/plain": [
       "RandomForestRegressor(criterion='mse')"
      ]
     },
     "execution_count": 42,
     "metadata": {},
     "output_type": "execute_result"
    }
   ],
   "source": [
    "# 각 X_train에 대해 모델 훈련을 해주세요.\n",
    "\n",
    "model_input_var1 = RandomForestRegressor(criterion = 'mse')\n",
    "model_input_var1.fit(X_train_1, Y_train)\n",
    "\n",
    "model_input_var2 = RandomForestRegressor(criterion = 'mse')\n",
    "model_input_var2.fit(X_train_2, Y_train)\n",
    "\n",
    "model_input_var3 = RandomForestRegressor(criterion = 'mse')\n",
    "model_input_var3.fit(X_train_3, Y_train)"
   ]
  },
  {
   "cell_type": "code",
   "execution_count": 37,
   "id": "b4ce9ac4",
   "metadata": {},
   "outputs": [],
   "source": [
    "# 각 모델로 test 셋들을 예측해주세요.\n",
    "\n",
    "y_pred_1 = model_input_var1.predict(test_1)\n",
    "y_pred_2 = model_input_var2.predict(test_2)\n",
    "y_pred_3 = model_input_var3.predict(test_3)"
   ]
  },
  {
   "cell_type": "code",
   "execution_count": 44,
   "id": "6c0c1c84",
   "metadata": {},
   "outputs": [],
   "source": [
    "# 각 결과들을 submission 파일로 저장해주세요.\n",
    "\n",
    "submission_1 = pd.read_csv('submission.csv')\n",
    "submission_2 = pd.read_csv('submission.csv')\n",
    "submission_3 = pd.read_csv('submission.csv')\n",
    "\n",
    "submission_1['count'] = y_pred_1\n",
    "submission_2['count'] = y_pred_2\n",
    "submission_3['count'] = y_pred_3\n",
    "\n",
    "submission_1.to_csv('sub_1.csv',index=False)\n",
    "submission_2.to_csv('sub_2.csv',index=False)\n",
    "submission_3.to_csv('sub_3.csv',index=False)"
   ]
  },
  {
   "cell_type": "markdown",
   "id": "6caa5db8",
   "metadata": {},
   "source": [
    "## 하이퍼파라미터, GridSearch\n",
    "1. 최대깊이는 최대로 내려갈 수 있는 depth 입니다. 뿌리 노드로부터 내려갈 수 있는 깊이를 지정하며 작을수록 트리는 작아지게 됩니다.\n",
    "\n",
    "2. 최소 노드크기는 노드를 분할하기 위한 데이터 수 입니다. 해당 노드에 이 값보다 적은 확률변수 수가 있다면 stop. 작을수록 트리는 커지게 됩니다.\n",
    "\n",
    "3. 최소 향상도는 노드를 분할하기 위한 최소 향상도 입니다. 향상도가 설정값 이하라면 더 이상 분할하지 않습니다. 작을수록 트리는 커집니다.\n",
    "\n",
    "4. 비용 복잡도는 트리가 커지는 것에 대해 패널티 계수를 설정해서 불순도와 트리가 커지는 것에 대해 복잡도를 계산하는 것입니다.\n",
    "\n",
    "이 4가지 정지규칙을 종합적으로 고려해 최적의 조건값을 설정할 수 있으며, 이를 하이퍼파라미터 튜닝이라고 함.\n",
    "하이퍼파라미터 튜닝에는 여러 방법론이 있는데, 그 중 최고 성능을 나타내는 GridSearch는 완전탐색을 사용함. 가능한 모든 조합 중에서 가장 우수한 조합을 찾는데, 완전탐색이기 때문에 시간이 매우 오래 걸린다는 단점이 있음."
   ]
  },
  {
   "cell_type": "markdown",
   "id": "571090f7",
   "metadata": {},
   "source": [
    "## GridSearch"
   ]
  },
  {
   "cell_type": "code",
   "execution_count": 45,
   "id": "94a7f699",
   "metadata": {},
   "outputs": [
    {
     "name": "stderr",
     "output_type": "stream",
     "text": [
      "/Users/daeun/opt/anaconda3/lib/python3.8/site-packages/sklearn/ensemble/_forest.py:400: FutureWarning: Criterion 'mse' was deprecated in v1.0 and will be removed in version 1.2. Use `criterion='squared_error'` which is equivalent.\n",
      "  warn(\n"
     ]
    },
    {
     "data": {
      "text/html": [
       "<style>#sk-container-id-6 {color: black;background-color: white;}#sk-container-id-6 pre{padding: 0;}#sk-container-id-6 div.sk-toggleable {background-color: white;}#sk-container-id-6 label.sk-toggleable__label {cursor: pointer;display: block;width: 100%;margin-bottom: 0;padding: 0.3em;box-sizing: border-box;text-align: center;}#sk-container-id-6 label.sk-toggleable__label-arrow:before {content: \"▸\";float: left;margin-right: 0.25em;color: #696969;}#sk-container-id-6 label.sk-toggleable__label-arrow:hover:before {color: black;}#sk-container-id-6 div.sk-estimator:hover label.sk-toggleable__label-arrow:before {color: black;}#sk-container-id-6 div.sk-toggleable__content {max-height: 0;max-width: 0;overflow: hidden;text-align: left;background-color: #f0f8ff;}#sk-container-id-6 div.sk-toggleable__content pre {margin: 0.2em;color: black;border-radius: 0.25em;background-color: #f0f8ff;}#sk-container-id-6 input.sk-toggleable__control:checked~div.sk-toggleable__content {max-height: 200px;max-width: 100%;overflow: auto;}#sk-container-id-6 input.sk-toggleable__control:checked~label.sk-toggleable__label-arrow:before {content: \"▾\";}#sk-container-id-6 div.sk-estimator input.sk-toggleable__control:checked~label.sk-toggleable__label {background-color: #d4ebff;}#sk-container-id-6 div.sk-label input.sk-toggleable__control:checked~label.sk-toggleable__label {background-color: #d4ebff;}#sk-container-id-6 input.sk-hidden--visually {border: 0;clip: rect(1px 1px 1px 1px);clip: rect(1px, 1px, 1px, 1px);height: 1px;margin: -1px;overflow: hidden;padding: 0;position: absolute;width: 1px;}#sk-container-id-6 div.sk-estimator {font-family: monospace;background-color: #f0f8ff;border: 1px dotted black;border-radius: 0.25em;box-sizing: border-box;margin-bottom: 0.5em;}#sk-container-id-6 div.sk-estimator:hover {background-color: #d4ebff;}#sk-container-id-6 div.sk-parallel-item::after {content: \"\";width: 100%;border-bottom: 1px solid gray;flex-grow: 1;}#sk-container-id-6 div.sk-label:hover label.sk-toggleable__label {background-color: #d4ebff;}#sk-container-id-6 div.sk-serial::before {content: \"\";position: absolute;border-left: 1px solid gray;box-sizing: border-box;top: 0;bottom: 0;left: 50%;z-index: 0;}#sk-container-id-6 div.sk-serial {display: flex;flex-direction: column;align-items: center;background-color: white;padding-right: 0.2em;padding-left: 0.2em;position: relative;}#sk-container-id-6 div.sk-item {position: relative;z-index: 1;}#sk-container-id-6 div.sk-parallel {display: flex;align-items: stretch;justify-content: center;background-color: white;position: relative;}#sk-container-id-6 div.sk-item::before, #sk-container-id-6 div.sk-parallel-item::before {content: \"\";position: absolute;border-left: 1px solid gray;box-sizing: border-box;top: 0;bottom: 0;left: 50%;z-index: -1;}#sk-container-id-6 div.sk-parallel-item {display: flex;flex-direction: column;z-index: 1;position: relative;background-color: white;}#sk-container-id-6 div.sk-parallel-item:first-child::after {align-self: flex-end;width: 50%;}#sk-container-id-6 div.sk-parallel-item:last-child::after {align-self: flex-start;width: 50%;}#sk-container-id-6 div.sk-parallel-item:only-child::after {width: 0;}#sk-container-id-6 div.sk-dashed-wrapped {border: 1px dashed gray;margin: 0 0.4em 0.5em 0.4em;box-sizing: border-box;padding-bottom: 0.4em;background-color: white;}#sk-container-id-6 div.sk-label label {font-family: monospace;font-weight: bold;display: inline-block;line-height: 1.2em;}#sk-container-id-6 div.sk-label-container {text-align: center;}#sk-container-id-6 div.sk-container {/* jupyter's `normalize.less` sets `[hidden] { display: none; }` but bootstrap.min.css set `[hidden] { display: none !important; }` so we also need the `!important` here to be able to override the default hidden behavior on the sphinx rendered scikit-learn.org. See: https://github.com/scikit-learn/scikit-learn/issues/21755 */display: inline-block !important;position: relative;}#sk-container-id-6 div.sk-text-repr-fallback {display: none;}</style><div id=\"sk-container-id-6\" class=\"sk-top-container\"><div class=\"sk-text-repr-fallback\"><pre>GridSearchCV(cv=3,\n",
       "             estimator=RandomForestRegressor(criterion=&#x27;mse&#x27;,\n",
       "                                             random_state=2020),\n",
       "             n_jobs=-1,\n",
       "             param_grid={&#x27;max_features&#x27;: [5, 6, 8],\n",
       "                         &#x27;min_samples_leaf&#x27;: [1, 3, 5],\n",
       "                         &#x27;n_estimators&#x27;: [200, 300, 500]})</pre><b>In a Jupyter environment, please rerun this cell to show the HTML representation or trust the notebook. <br />On GitHub, the HTML representation is unable to render, please try loading this page with nbviewer.org.</b></div><div class=\"sk-container\" hidden><div class=\"sk-item sk-dashed-wrapped\"><div class=\"sk-label-container\"><div class=\"sk-label sk-toggleable\"><input class=\"sk-toggleable__control sk-hidden--visually\" id=\"sk-estimator-id-6\" type=\"checkbox\" ><label for=\"sk-estimator-id-6\" class=\"sk-toggleable__label sk-toggleable__label-arrow\">GridSearchCV</label><div class=\"sk-toggleable__content\"><pre>GridSearchCV(cv=3,\n",
       "             estimator=RandomForestRegressor(criterion=&#x27;mse&#x27;,\n",
       "                                             random_state=2020),\n",
       "             n_jobs=-1,\n",
       "             param_grid={&#x27;max_features&#x27;: [5, 6, 8],\n",
       "                         &#x27;min_samples_leaf&#x27;: [1, 3, 5],\n",
       "                         &#x27;n_estimators&#x27;: [200, 300, 500]})</pre></div></div></div><div class=\"sk-parallel\"><div class=\"sk-parallel-item\"><div class=\"sk-item\"><div class=\"sk-label-container\"><div class=\"sk-label sk-toggleable\"><input class=\"sk-toggleable__control sk-hidden--visually\" id=\"sk-estimator-id-7\" type=\"checkbox\" ><label for=\"sk-estimator-id-7\" class=\"sk-toggleable__label sk-toggleable__label-arrow\">estimator: RandomForestRegressor</label><div class=\"sk-toggleable__content\"><pre>RandomForestRegressor(criterion=&#x27;mse&#x27;, random_state=2020)</pre></div></div></div><div class=\"sk-serial\"><div class=\"sk-item\"><div class=\"sk-estimator sk-toggleable\"><input class=\"sk-toggleable__control sk-hidden--visually\" id=\"sk-estimator-id-8\" type=\"checkbox\" ><label for=\"sk-estimator-id-8\" class=\"sk-toggleable__label sk-toggleable__label-arrow\">RandomForestRegressor</label><div class=\"sk-toggleable__content\"><pre>RandomForestRegressor(criterion=&#x27;mse&#x27;, random_state=2020)</pre></div></div></div></div></div></div></div></div></div></div>"
      ],
      "text/plain": [
       "GridSearchCV(cv=3,\n",
       "             estimator=RandomForestRegressor(criterion='mse',\n",
       "                                             random_state=2020),\n",
       "             n_jobs=-1,\n",
       "             param_grid={'max_features': [5, 6, 8],\n",
       "                         'min_samples_leaf': [1, 3, 5],\n",
       "                         'n_estimators': [200, 300, 500]})"
      ]
     },
     "execution_count": 45,
     "metadata": {},
     "output_type": "execute_result"
    }
   ],
   "source": [
    "from sklearn.model_selection import GridSearchCV\n",
    "\n",
    "model = RandomForestRegressor(criterion = 'mse', random_state=2020)\n",
    "\n",
    "params = {'n_estimators': [200, 300, 500],\n",
    "          'max_features': [5, 6, 8],\n",
    "          'min_samples_leaf': [1, 3, 5]}\n",
    "\n",
    "greedy_CV = GridSearchCV(model, param_grid=params, cv = 3, n_jobs = -1)\n",
    "greedy_CV.fit(X_train, Y_train)"
   ]
  },
  {
   "cell_type": "code",
   "execution_count": 50,
   "id": "c282e9cc",
   "metadata": {},
   "outputs": [
    {
     "data": {
      "text/plain": [
       "array([ 98.2096086 , 219.56942193,  79.55960615,  42.45692629,\n",
       "        58.30486392, 128.80483538, 192.5235082 , 293.74524871,\n",
       "        41.61470815, 110.82005016, 299.65255831, 251.45269998,\n",
       "       108.02500782,  43.80077573, 201.53157912, 161.17019805,\n",
       "        25.26753403, 178.62625389, 327.58199014, 162.13943663,\n",
       "       232.61158011,  81.12243977,  30.00139691, 140.52185454,\n",
       "       139.41846753, 114.47330363,  26.48873329, 120.80212807,\n",
       "       114.07323016, 159.43079647,  82.01214334,  40.45128678,\n",
       "        66.29257155, 129.96711484, 277.92944208,  40.14311712,\n",
       "       134.36958668, 117.57202501, 225.60856668,  85.28241007,\n",
       "        59.38148031, 122.77523341, 169.98789946,  80.12606825,\n",
       "       321.01760867, 188.70778622,  88.67695961,  63.10269096,\n",
       "        21.55733771,  89.84926431, 248.55496642,  94.11972066,\n",
       "       143.42935269,  81.08390931, 201.26205712, 150.92577552,\n",
       "        50.57824471, 184.3272286 ,  29.43277822,  19.47562297,\n",
       "        96.77822777,  85.50351067, 255.50734634, 294.43998717,\n",
       "       152.32400942, 309.07746828,  32.32045563, 225.29706751,\n",
       "       149.24735706,  35.04050204, 105.38803846,  32.68961427,\n",
       "       152.03621861,  15.74079758, 318.46389438, 234.34399531,\n",
       "        35.86953478, 186.01459612, 242.77825589,  31.57453018,\n",
       "       248.34841655, 133.48737716,  94.4612333 ,  83.18025313,\n",
       "        87.09818482, 322.08878891,  57.49723076, 170.41373244,\n",
       "        96.29654076, 261.60097622, 276.3398805 , 165.51091739,\n",
       "        66.5346271 , 105.64980629,  44.62498824,  84.9077191 ,\n",
       "        99.30804114,  29.22204894, 222.27290395, 154.97670326,\n",
       "        21.39456542, 162.01615997,  39.9149216 , 117.89592797,\n",
       "        76.07663674,  60.39351696, 103.15904473,  29.70321701,\n",
       "       172.48052723, 136.46831385, 188.71213352, 247.41873244,\n",
       "       180.16359175, 118.4710464 ,  63.50673221, 124.52355018,\n",
       "       224.9778098 ,  41.76927901, 216.44470406,  21.24699266,\n",
       "       105.73413108, 108.6505594 , 181.83737686, 126.11766472,\n",
       "        50.06505147, 121.17843038,  56.40191534,  17.12725069,\n",
       "       215.48448341,  58.95000183, 128.00113528, 159.94503673,\n",
       "        21.87330808, 139.01896924, 290.06551659, 128.89943521,\n",
       "        44.16558781, 144.93275944, 237.89663664, 345.29433208,\n",
       "       161.66937352,  37.38118771,  33.44309777,  91.50886231,\n",
       "        95.83435233, 116.37615861, 105.43765409, 126.1225499 ,\n",
       "       152.18758141, 207.24854449, 130.05651388, 296.53856397,\n",
       "       301.23517416, 220.70977187, 176.64354056,  14.37629192,\n",
       "       121.8380128 ,  26.63569565,  89.22326094, 138.2516421 ,\n",
       "       137.94497854,  34.07229804, 212.38814068, 209.92034494,\n",
       "       123.76743747,  27.63464106, 221.49052057, 160.37209139,\n",
       "       284.83245309,  28.47506346, 121.14680363, 132.35771143,\n",
       "        90.68828692, 127.83170758, 103.16666041,  99.58794972,\n",
       "       215.10295686, 195.77402396, 162.88340402, 111.91076558,\n",
       "       208.42905944, 175.28524589, 154.94928451, 254.5531043 ,\n",
       "       141.23155211,  90.80435281,  99.59886389, 291.14954484,\n",
       "       167.19524026,  51.65361451,  42.48561956, 139.10633748,\n",
       "       119.98915055, 111.30653163, 137.06426948, 267.25874391,\n",
       "       314.71071312, 138.25192587, 122.95015031, 106.32857997,\n",
       "        28.91926467, 220.21235469,  27.77113585, 318.33759371,\n",
       "       141.88187865,  43.01380196, 126.37381019, 230.74064025,\n",
       "       226.77327826,  63.34518375, 283.03121408, 152.86959043,\n",
       "       126.46567502, 213.60370503, 242.07363892, 126.09998701,\n",
       "       237.93896861, 118.58065608, 134.83352567,  93.84818038,\n",
       "        94.43986955,  34.7974602 , 106.34984776,  64.10776821,\n",
       "       147.51502947,  42.37342343, 207.09033001, 189.40623251,\n",
       "        36.06822199, 163.53876347, 257.2869327 , 121.19709836,\n",
       "        30.20441086,  75.74854339, 207.61008134, 101.4880849 ,\n",
       "       348.67411673, 311.53883149, 160.22460092, 199.45627446,\n",
       "        20.54994105, 219.56903451,  34.65943506, 140.69815236,\n",
       "       148.61514815, 100.80948665, 148.79025241, 231.70115103,\n",
       "       100.65049545,  27.78465152,  93.80686606, 262.86483432,\n",
       "       235.73273172, 153.33468519, 135.04615972, 162.47905195,\n",
       "        41.70614743, 341.20600925,  85.37305195,  21.99501696,\n",
       "       171.92818258,  40.30763949, 227.43011953,  34.08275277,\n",
       "       144.79045238, 239.27869024,  31.04470188, 228.9579113 ,\n",
       "        87.4118278 , 191.75026215, 127.57914933, 110.90425012,\n",
       "        57.5727945 , 311.55618843,  33.05497463, 273.51312494,\n",
       "        85.74772595, 167.69493038, 165.57890981,  39.67156833,\n",
       "       281.16733284, 104.24801136,  17.29422423, 169.07210009,\n",
       "       155.37539683, 113.08260979, 247.82188696, 134.5254887 ,\n",
       "        66.88234638, 103.82675353, 118.09000385, 264.95356734,\n",
       "       142.29187352, 122.28917328, 136.71711304,  40.21932805,\n",
       "       149.4361728 ,  49.97685705, 221.91596946,  23.94667827,\n",
       "       110.99539791, 214.70218206, 208.99719565, 218.60439394,\n",
       "       331.02112634, 216.6781539 , 132.97941739,  63.44719312,\n",
       "       165.43851756,  90.49596152, 268.61114734, 251.70878139,\n",
       "       241.3509466 ,  46.02742473, 260.71561195, 215.87275349,\n",
       "       154.15663769,  42.61782939,  33.62333862,  20.95904601,\n",
       "       212.65334055,  33.62102266, 138.85511015, 143.33121344,\n",
       "        96.77860656, 338.96315982, 260.97669086, 100.68113985,\n",
       "        86.92822932,  94.73740476,  26.10391955,  98.04250651,\n",
       "        80.48948846, 186.76630351, 141.08212127,  36.22562266,\n",
       "       244.98430189, 210.57554621, 139.61289228, 331.47076462,\n",
       "        21.52337494,  32.81143663, 305.12401952, 190.74115572,\n",
       "       119.37098971,  27.81239792,  31.53050363,  99.87934716,\n",
       "       119.39664177, 282.02945109, 205.65331878, 234.49381322,\n",
       "        62.79569699,  51.28982879, 197.23601453,  64.03196152,\n",
       "        22.07353475,  32.58697799, 102.23493272, 111.00661953,\n",
       "        68.84327405, 205.66059859, 229.54050653, 150.84005844,\n",
       "       147.02364242,  42.85516811,  74.59597284, 102.5957249 ,\n",
       "        28.04518338, 201.3971633 , 102.14507612,  78.63768963,\n",
       "       229.76147549, 287.20431978, 217.31523569,  18.96172807,\n",
       "        43.27993716, 175.56530433, 100.84379764,  45.88079437,\n",
       "       103.48240291, 118.05987608, 306.59297336, 283.62696047,\n",
       "       120.75472475,  80.90569194, 131.62198849, 170.25236279,\n",
       "       119.29912554, 232.37360821,  42.75050484, 158.64568627,\n",
       "       281.06257567,  56.48298797, 115.49311171, 113.54567141,\n",
       "       267.95550562,  43.28940488,  29.61973773, 201.50880159,\n",
       "        20.3045196 ,  91.47534019,  28.97270551, 259.22353006,\n",
       "        83.9833866 , 119.28368158, 170.85611286, 146.20276455,\n",
       "       115.82036255, 111.99725361, 174.96289969, 270.31191118,\n",
       "       140.57044709, 122.45530099,  53.77349389, 123.0672604 ,\n",
       "       176.17481828, 115.88006301,  59.41426585,  53.78921191,\n",
       "        35.39561436,  36.23226756,  21.02726263,  33.20748329,\n",
       "       161.1857488 , 111.14600084, 100.89606133, 184.63615818,\n",
       "       116.21170418, 327.1823186 , 134.97945948, 199.09420907,\n",
       "       238.10781929, 116.24064184, 115.99847667, 211.71931353,\n",
       "       313.83193837,  42.81031987, 115.49473875, 336.86159389,\n",
       "       266.34874303, 156.64011881,  49.76892316,  97.80006205,\n",
       "       115.51958604,  97.39182674, 109.95303373,  38.62514733,\n",
       "       313.64782133, 280.1785349 , 232.51052365, 122.58644976,\n",
       "       179.68277513, 207.53945451, 141.19011334, 143.42502042,\n",
       "       241.28517587, 101.78081758,  60.68448124, 120.392454  ,\n",
       "       183.32955171, 130.89891077, 117.11073461, 114.86455327,\n",
       "        90.10334476, 141.7222699 , 260.92663687,  98.75182215,\n",
       "       186.51665496, 180.69663672, 240.53791565,  56.61902826,\n",
       "       315.74158287,  94.92018506, 150.63236908, 179.92361845,\n",
       "        29.29410245,  28.21319891, 216.12074134, 271.72176674,\n",
       "       105.7115772 , 104.54409502,  37.03884055,  32.47716438,\n",
       "       228.32784583, 141.80392847, 319.97218713, 224.88972334,\n",
       "        90.57673761, 128.94816667, 224.26753546, 183.30628262,\n",
       "        71.3247215 ,  75.61199485,  52.48883045, 154.19685852,\n",
       "       115.41805964, 226.91584591, 283.77759174, 221.26572959,\n",
       "        17.50665476, 219.50509357,  58.84095169, 102.00571878,\n",
       "        45.35239274, 245.36041828, 236.62277594,  29.95564767,\n",
       "       158.33654477,  80.57221765, 198.26337927, 190.95451302,\n",
       "       212.01969877, 193.84254774, 326.34227257,  96.19350048,\n",
       "        30.9013824 , 232.4830977 , 146.86561638, 172.71943639,\n",
       "        36.57408562, 229.72336484,  20.58047835,  57.69886076,\n",
       "        30.5346562 ,  73.20727943,  37.4151556 , 175.85165897,\n",
       "       196.32755099, 149.38896256,  43.68327934,  88.5824524 ,\n",
       "        40.20121943, 289.05488453,  96.89708416,  41.42936532,\n",
       "       102.66565729,  28.19399699,  43.26457287,  33.3708146 ,\n",
       "       293.88013898,  19.42556602, 184.39016429, 241.56524137,\n",
       "       301.46749414, 204.69835551, 101.74664117, 134.03707977,\n",
       "       105.94590067, 102.98698703, 212.08871837,  44.98509962,\n",
       "        20.95444649, 147.79175435,  20.48199772, 142.4721419 ,\n",
       "       142.54845541,  46.0297619 , 174.58183731, 196.69656242,\n",
       "       203.02756058, 331.48025353,  27.74434247, 103.50057696,\n",
       "        40.21029536,  44.037117  , 101.10271188,  99.94401337,\n",
       "        37.20784367, 163.66916581,  89.00537109, 189.10182191,\n",
       "       124.44067218, 325.11019538, 175.72583985, 259.10965445,\n",
       "       133.69616513, 271.67448598,  63.86866993,  33.37432554,\n",
       "        28.23544001,  35.73465792,  87.97343987,  27.35918266,\n",
       "        28.59922547, 105.03060183,  30.0850083 , 249.8970824 ,\n",
       "       226.4390504 , 141.33428726,  87.42996922,  97.30302068,\n",
       "        36.1078646 , 151.06619124, 101.19225277, 133.43303068,\n",
       "       185.83246158,  27.18227826, 226.82844211, 119.7582208 ,\n",
       "        15.11711579, 258.12168348, 106.13757059,  42.16207949,\n",
       "        89.38096346, 241.82152098, 105.57234905, 340.67713313,\n",
       "       282.28932527, 216.7209881 , 209.47503268, 178.6199121 ,\n",
       "        23.88411027, 118.5833058 , 146.8507247 ,  39.33927633,\n",
       "        45.93524447,  95.08824268, 213.63972617, 154.93622619,\n",
       "        57.60275541, 177.63772836,  99.12647658, 247.74455456,\n",
       "       114.94162951, 302.25187514,  74.38467262,  29.84218302,\n",
       "        25.1720469 , 221.38433827, 240.5613557 ,  89.51102165,\n",
       "       113.95199103,  30.65597607,  98.553833  , 142.11044767,\n",
       "       179.17686287, 120.14673538, 101.93344204,  44.29772018,\n",
       "       118.06324603, 103.52506205,  66.0322678 , 110.42669617,\n",
       "       295.97249004, 124.66076441, 249.66577144, 143.09118889,\n",
       "       280.53702962, 185.14941426,  78.90474004, 122.75523882,\n",
       "        98.52792367, 291.41132555, 245.31236968, 242.11074318,\n",
       "       109.30263504, 117.88943531, 126.83231585,  21.95306746,\n",
       "       148.70246321, 229.87983096,  39.99743158,  85.14234909,\n",
       "       119.49310137, 120.0223961 , 161.49067462, 123.77296104,\n",
       "       286.5198672 ,  87.43040945, 111.7703272 , 135.1285214 ,\n",
       "       293.4223427 , 106.5060663 , 140.14240622, 144.79433095,\n",
       "        40.60018651, 161.09266775,  29.52319865,  29.19967258,\n",
       "        28.91599832, 220.01718447, 105.78002573, 164.10733117,\n",
       "       242.94272298, 136.19721516, 125.42949555,  34.42195503,\n",
       "       146.74840248,  20.82237855, 143.19296286,  31.33051852,\n",
       "        42.72389177, 100.83412326,  54.20276864, 205.75929209,\n",
       "        19.29381217,  89.94233321, 190.35222215,  30.40659634,\n",
       "       290.43957062, 257.32722246,  16.79077561, 340.21120059,\n",
       "       117.34469607, 240.18604401,  43.4926229 ,  86.81629497,\n",
       "        45.13669264, 271.46886536,  60.38231037,  66.08331037,\n",
       "       120.88389214, 156.01582486, 156.39782792])"
      ]
     },
     "execution_count": 50,
     "metadata": {},
     "output_type": "execute_result"
    }
   ],
   "source": [
    "pred = greedy_CV.predict(test)\n",
    "pred"
   ]
  },
  {
   "cell_type": "code",
   "execution_count": 51,
   "id": "1db03a6b",
   "metadata": {},
   "outputs": [],
   "source": [
    "submission = pd.read_csv('submission.csv')"
   ]
  },
  {
   "cell_type": "code",
   "execution_count": 52,
   "id": "5307c6ff",
   "metadata": {},
   "outputs": [],
   "source": [
    "import numpy as np\n",
    "\n",
    "submission['count'] = np.round(pred, 2)"
   ]
  },
  {
   "cell_type": "code",
   "execution_count": 53,
   "id": "f17aa488",
   "metadata": {},
   "outputs": [
    {
     "data": {
      "text/html": [
       "<div>\n",
       "<style scoped>\n",
       "    .dataframe tbody tr th:only-of-type {\n",
       "        vertical-align: middle;\n",
       "    }\n",
       "\n",
       "    .dataframe tbody tr th {\n",
       "        vertical-align: top;\n",
       "    }\n",
       "\n",
       "    .dataframe thead th {\n",
       "        text-align: right;\n",
       "    }\n",
       "</style>\n",
       "<table border=\"1\" class=\"dataframe\">\n",
       "  <thead>\n",
       "    <tr style=\"text-align: right;\">\n",
       "      <th></th>\n",
       "      <th>id</th>\n",
       "      <th>count</th>\n",
       "    </tr>\n",
       "  </thead>\n",
       "  <tbody>\n",
       "    <tr>\n",
       "      <th>0</th>\n",
       "      <td>0</td>\n",
       "      <td>98.21</td>\n",
       "    </tr>\n",
       "    <tr>\n",
       "      <th>1</th>\n",
       "      <td>1</td>\n",
       "      <td>219.57</td>\n",
       "    </tr>\n",
       "    <tr>\n",
       "      <th>2</th>\n",
       "      <td>2</td>\n",
       "      <td>79.56</td>\n",
       "    </tr>\n",
       "    <tr>\n",
       "      <th>3</th>\n",
       "      <td>4</td>\n",
       "      <td>42.46</td>\n",
       "    </tr>\n",
       "    <tr>\n",
       "      <th>4</th>\n",
       "      <td>5</td>\n",
       "      <td>58.30</td>\n",
       "    </tr>\n",
       "  </tbody>\n",
       "</table>\n",
       "</div>"
      ],
      "text/plain": [
       "   id   count\n",
       "0   0   98.21\n",
       "1   1  219.57\n",
       "2   2   79.56\n",
       "3   4   42.46\n",
       "4   5   58.30"
      ]
     },
     "execution_count": 53,
     "metadata": {},
     "output_type": "execute_result"
    }
   ],
   "source": [
    "submission.head()"
   ]
  },
  {
   "cell_type": "code",
   "execution_count": 54,
   "id": "8edc452a",
   "metadata": {},
   "outputs": [
    {
     "name": "stderr",
     "output_type": "stream",
     "text": [
      "/Users/daeun/opt/anaconda3/lib/python3.8/site-packages/sklearn/ensemble/_forest.py:400: FutureWarning: Criterion 'mse' was deprecated in v1.0 and will be removed in version 1.2. Use `criterion='squared_error'` which is equivalent.\n",
      "  warn(\n",
      "/Users/daeun/opt/anaconda3/lib/python3.8/site-packages/sklearn/ensemble/_forest.py:400: FutureWarning: Criterion 'mse' was deprecated in v1.0 and will be removed in version 1.2. Use `criterion='squared_error'` which is equivalent.\n",
      "  warn(\n",
      "/Users/daeun/opt/anaconda3/lib/python3.8/site-packages/sklearn/ensemble/_forest.py:400: FutureWarning: Criterion 'mse' was deprecated in v1.0 and will be removed in version 1.2. Use `criterion='squared_error'` which is equivalent.\n",
      "  warn(\n",
      "/Users/daeun/opt/anaconda3/lib/python3.8/site-packages/sklearn/ensemble/_forest.py:400: FutureWarning: Criterion 'mse' was deprecated in v1.0 and will be removed in version 1.2. Use `criterion='squared_error'` which is equivalent.\n",
      "  warn(\n",
      "/Users/daeun/opt/anaconda3/lib/python3.8/site-packages/sklearn/ensemble/_forest.py:400: FutureWarning: Criterion 'mse' was deprecated in v1.0 and will be removed in version 1.2. Use `criterion='squared_error'` which is equivalent.\n",
      "  warn(\n",
      "/Users/daeun/opt/anaconda3/lib/python3.8/site-packages/sklearn/ensemble/_forest.py:400: FutureWarning: Criterion 'mse' was deprecated in v1.0 and will be removed in version 1.2. Use `criterion='squared_error'` which is equivalent.\n",
      "  warn(\n",
      "/Users/daeun/opt/anaconda3/lib/python3.8/site-packages/sklearn/ensemble/_forest.py:400: FutureWarning: Criterion 'mse' was deprecated in v1.0 and will be removed in version 1.2. Use `criterion='squared_error'` which is equivalent.\n",
      "  warn(\n",
      "/Users/daeun/opt/anaconda3/lib/python3.8/site-packages/sklearn/ensemble/_forest.py:400: FutureWarning: Criterion 'mse' was deprecated in v1.0 and will be removed in version 1.2. Use `criterion='squared_error'` which is equivalent.\n",
      "  warn(\n",
      "/Users/daeun/opt/anaconda3/lib/python3.8/site-packages/sklearn/ensemble/_forest.py:400: FutureWarning: Criterion 'mse' was deprecated in v1.0 and will be removed in version 1.2. Use `criterion='squared_error'` which is equivalent.\n",
      "  warn(\n",
      "/Users/daeun/opt/anaconda3/lib/python3.8/site-packages/sklearn/ensemble/_forest.py:400: FutureWarning: Criterion 'mse' was deprecated in v1.0 and will be removed in version 1.2. Use `criterion='squared_error'` which is equivalent.\n",
      "  warn(\n",
      "/Users/daeun/opt/anaconda3/lib/python3.8/site-packages/sklearn/ensemble/_forest.py:400: FutureWarning: Criterion 'mse' was deprecated in v1.0 and will be removed in version 1.2. Use `criterion='squared_error'` which is equivalent.\n",
      "  warn(\n",
      "/Users/daeun/opt/anaconda3/lib/python3.8/site-packages/sklearn/ensemble/_forest.py:400: FutureWarning: Criterion 'mse' was deprecated in v1.0 and will be removed in version 1.2. Use `criterion='squared_error'` which is equivalent.\n",
      "  warn(\n",
      "/Users/daeun/opt/anaconda3/lib/python3.8/site-packages/sklearn/ensemble/_forest.py:400: FutureWarning: Criterion 'mse' was deprecated in v1.0 and will be removed in version 1.2. Use `criterion='squared_error'` which is equivalent.\n",
      "  warn(\n",
      "/Users/daeun/opt/anaconda3/lib/python3.8/site-packages/sklearn/ensemble/_forest.py:400: FutureWarning: Criterion 'mse' was deprecated in v1.0 and will be removed in version 1.2. Use `criterion='squared_error'` which is equivalent.\n",
      "  warn(\n",
      "/Users/daeun/opt/anaconda3/lib/python3.8/site-packages/sklearn/ensemble/_forest.py:400: FutureWarning: Criterion 'mse' was deprecated in v1.0 and will be removed in version 1.2. Use `criterion='squared_error'` which is equivalent.\n",
      "  warn(\n",
      "/Users/daeun/opt/anaconda3/lib/python3.8/site-packages/sklearn/ensemble/_forest.py:400: FutureWarning: Criterion 'mse' was deprecated in v1.0 and will be removed in version 1.2. Use `criterion='squared_error'` which is equivalent.\n",
      "  warn(\n",
      "/Users/daeun/opt/anaconda3/lib/python3.8/site-packages/sklearn/ensemble/_forest.py:400: FutureWarning: Criterion 'mse' was deprecated in v1.0 and will be removed in version 1.2. Use `criterion='squared_error'` which is equivalent.\n",
      "  warn(\n",
      "/Users/daeun/opt/anaconda3/lib/python3.8/site-packages/sklearn/ensemble/_forest.py:400: FutureWarning: Criterion 'mse' was deprecated in v1.0 and will be removed in version 1.2. Use `criterion='squared_error'` which is equivalent.\n",
      "  warn(\n",
      "/Users/daeun/opt/anaconda3/lib/python3.8/site-packages/sklearn/ensemble/_forest.py:400: FutureWarning: Criterion 'mse' was deprecated in v1.0 and will be removed in version 1.2. Use `criterion='squared_error'` which is equivalent.\n",
      "  warn(\n",
      "/Users/daeun/opt/anaconda3/lib/python3.8/site-packages/sklearn/ensemble/_forest.py:400: FutureWarning: Criterion 'mse' was deprecated in v1.0 and will be removed in version 1.2. Use `criterion='squared_error'` which is equivalent.\n",
      "  warn(\n",
      "/Users/daeun/opt/anaconda3/lib/python3.8/site-packages/sklearn/ensemble/_forest.py:400: FutureWarning: Criterion 'mse' was deprecated in v1.0 and will be removed in version 1.2. Use `criterion='squared_error'` which is equivalent.\n",
      "  warn(\n",
      "/Users/daeun/opt/anaconda3/lib/python3.8/site-packages/sklearn/ensemble/_forest.py:400: FutureWarning: Criterion 'mse' was deprecated in v1.0 and will be removed in version 1.2. Use `criterion='squared_error'` which is equivalent.\n",
      "  warn(\n",
      "/Users/daeun/opt/anaconda3/lib/python3.8/site-packages/sklearn/ensemble/_forest.py:400: FutureWarning: Criterion 'mse' was deprecated in v1.0 and will be removed in version 1.2. Use `criterion='squared_error'` which is equivalent.\n",
      "  warn(\n",
      "/Users/daeun/opt/anaconda3/lib/python3.8/site-packages/sklearn/ensemble/_forest.py:400: FutureWarning: Criterion 'mse' was deprecated in v1.0 and will be removed in version 1.2. Use `criterion='squared_error'` which is equivalent.\n",
      "  warn(\n",
      "/Users/daeun/opt/anaconda3/lib/python3.8/site-packages/sklearn/ensemble/_forest.py:400: FutureWarning: Criterion 'mse' was deprecated in v1.0 and will be removed in version 1.2. Use `criterion='squared_error'` which is equivalent.\n",
      "  warn(\n",
      "/Users/daeun/opt/anaconda3/lib/python3.8/site-packages/sklearn/ensemble/_forest.py:400: FutureWarning: Criterion 'mse' was deprecated in v1.0 and will be removed in version 1.2. Use `criterion='squared_error'` which is equivalent.\n",
      "  warn(\n",
      "/Users/daeun/opt/anaconda3/lib/python3.8/site-packages/sklearn/ensemble/_forest.py:400: FutureWarning: Criterion 'mse' was deprecated in v1.0 and will be removed in version 1.2. Use `criterion='squared_error'` which is equivalent.\n",
      "  warn(\n",
      "/Users/daeun/opt/anaconda3/lib/python3.8/site-packages/sklearn/ensemble/_forest.py:400: FutureWarning: Criterion 'mse' was deprecated in v1.0 and will be removed in version 1.2. Use `criterion='squared_error'` which is equivalent.\n",
      "  warn(\n",
      "/Users/daeun/opt/anaconda3/lib/python3.8/site-packages/sklearn/ensemble/_forest.py:400: FutureWarning: Criterion 'mse' was deprecated in v1.0 and will be removed in version 1.2. Use `criterion='squared_error'` which is equivalent.\n",
      "  warn(\n",
      "/Users/daeun/opt/anaconda3/lib/python3.8/site-packages/sklearn/ensemble/_forest.py:400: FutureWarning: Criterion 'mse' was deprecated in v1.0 and will be removed in version 1.2. Use `criterion='squared_error'` which is equivalent.\n",
      "  warn(\n",
      "/Users/daeun/opt/anaconda3/lib/python3.8/site-packages/sklearn/ensemble/_forest.py:400: FutureWarning: Criterion 'mse' was deprecated in v1.0 and will be removed in version 1.2. Use `criterion='squared_error'` which is equivalent.\n",
      "  warn(\n",
      "/Users/daeun/opt/anaconda3/lib/python3.8/site-packages/sklearn/ensemble/_forest.py:400: FutureWarning: Criterion 'mse' was deprecated in v1.0 and will be removed in version 1.2. Use `criterion='squared_error'` which is equivalent.\n",
      "  warn(\n",
      "/Users/daeun/opt/anaconda3/lib/python3.8/site-packages/sklearn/ensemble/_forest.py:400: FutureWarning: Criterion 'mse' was deprecated in v1.0 and will be removed in version 1.2. Use `criterion='squared_error'` which is equivalent.\n",
      "  warn(\n",
      "/Users/daeun/opt/anaconda3/lib/python3.8/site-packages/sklearn/ensemble/_forest.py:400: FutureWarning: Criterion 'mse' was deprecated in v1.0 and will be removed in version 1.2. Use `criterion='squared_error'` which is equivalent.\n",
      "  warn(\n",
      "/Users/daeun/opt/anaconda3/lib/python3.8/site-packages/sklearn/ensemble/_forest.py:400: FutureWarning: Criterion 'mse' was deprecated in v1.0 and will be removed in version 1.2. Use `criterion='squared_error'` which is equivalent.\n",
      "  warn(\n",
      "/Users/daeun/opt/anaconda3/lib/python3.8/site-packages/sklearn/ensemble/_forest.py:400: FutureWarning: Criterion 'mse' was deprecated in v1.0 and will be removed in version 1.2. Use `criterion='squared_error'` which is equivalent.\n",
      "  warn(\n",
      "/Users/daeun/opt/anaconda3/lib/python3.8/site-packages/sklearn/ensemble/_forest.py:400: FutureWarning: Criterion 'mse' was deprecated in v1.0 and will be removed in version 1.2. Use `criterion='squared_error'` which is equivalent.\n",
      "  warn(\n",
      "/Users/daeun/opt/anaconda3/lib/python3.8/site-packages/sklearn/ensemble/_forest.py:400: FutureWarning: Criterion 'mse' was deprecated in v1.0 and will be removed in version 1.2. Use `criterion='squared_error'` which is equivalent.\n",
      "  warn(\n",
      "/Users/daeun/opt/anaconda3/lib/python3.8/site-packages/sklearn/ensemble/_forest.py:400: FutureWarning: Criterion 'mse' was deprecated in v1.0 and will be removed in version 1.2. Use `criterion='squared_error'` which is equivalent.\n",
      "  warn(\n",
      "/Users/daeun/opt/anaconda3/lib/python3.8/site-packages/sklearn/ensemble/_forest.py:400: FutureWarning: Criterion 'mse' was deprecated in v1.0 and will be removed in version 1.2. Use `criterion='squared_error'` which is equivalent.\n",
      "  warn(\n",
      "/Users/daeun/opt/anaconda3/lib/python3.8/site-packages/sklearn/ensemble/_forest.py:400: FutureWarning: Criterion 'mse' was deprecated in v1.0 and will be removed in version 1.2. Use `criterion='squared_error'` which is equivalent.\n",
      "  warn(\n",
      "/Users/daeun/opt/anaconda3/lib/python3.8/site-packages/sklearn/ensemble/_forest.py:400: FutureWarning: Criterion 'mse' was deprecated in v1.0 and will be removed in version 1.2. Use `criterion='squared_error'` which is equivalent.\n",
      "  warn(\n",
      "/Users/daeun/opt/anaconda3/lib/python3.8/site-packages/sklearn/ensemble/_forest.py:400: FutureWarning: Criterion 'mse' was deprecated in v1.0 and will be removed in version 1.2. Use `criterion='squared_error'` which is equivalent.\n",
      "  warn(\n",
      "/Users/daeun/opt/anaconda3/lib/python3.8/site-packages/sklearn/ensemble/_forest.py:400: FutureWarning: Criterion 'mse' was deprecated in v1.0 and will be removed in version 1.2. Use `criterion='squared_error'` which is equivalent.\n",
      "  warn(\n",
      "/Users/daeun/opt/anaconda3/lib/python3.8/site-packages/sklearn/ensemble/_forest.py:400: FutureWarning: Criterion 'mse' was deprecated in v1.0 and will be removed in version 1.2. Use `criterion='squared_error'` which is equivalent.\n",
      "  warn(\n",
      "/Users/daeun/opt/anaconda3/lib/python3.8/site-packages/sklearn/ensemble/_forest.py:400: FutureWarning: Criterion 'mse' was deprecated in v1.0 and will be removed in version 1.2. Use `criterion='squared_error'` which is equivalent.\n",
      "  warn(\n",
      "/Users/daeun/opt/anaconda3/lib/python3.8/site-packages/sklearn/ensemble/_forest.py:400: FutureWarning: Criterion 'mse' was deprecated in v1.0 and will be removed in version 1.2. Use `criterion='squared_error'` which is equivalent.\n",
      "  warn(\n",
      "/Users/daeun/opt/anaconda3/lib/python3.8/site-packages/sklearn/ensemble/_forest.py:400: FutureWarning: Criterion 'mse' was deprecated in v1.0 and will be removed in version 1.2. Use `criterion='squared_error'` which is equivalent.\n",
      "  warn(\n",
      "/Users/daeun/opt/anaconda3/lib/python3.8/site-packages/sklearn/ensemble/_forest.py:400: FutureWarning: Criterion 'mse' was deprecated in v1.0 and will be removed in version 1.2. Use `criterion='squared_error'` which is equivalent.\n",
      "  warn(\n",
      "/Users/daeun/opt/anaconda3/lib/python3.8/site-packages/sklearn/ensemble/_forest.py:400: FutureWarning: Criterion 'mse' was deprecated in v1.0 and will be removed in version 1.2. Use `criterion='squared_error'` which is equivalent.\n",
      "  warn(\n"
     ]
    },
    {
     "name": "stderr",
     "output_type": "stream",
     "text": [
      "/Users/daeun/opt/anaconda3/lib/python3.8/site-packages/sklearn/ensemble/_forest.py:400: FutureWarning: Criterion 'mse' was deprecated in v1.0 and will be removed in version 1.2. Use `criterion='squared_error'` which is equivalent.\n",
      "  warn(\n",
      "/Users/daeun/opt/anaconda3/lib/python3.8/site-packages/sklearn/ensemble/_forest.py:400: FutureWarning: Criterion 'mse' was deprecated in v1.0 and will be removed in version 1.2. Use `criterion='squared_error'` which is equivalent.\n",
      "  warn(\n",
      "/Users/daeun/opt/anaconda3/lib/python3.8/site-packages/sklearn/ensemble/_forest.py:400: FutureWarning: Criterion 'mse' was deprecated in v1.0 and will be removed in version 1.2. Use `criterion='squared_error'` which is equivalent.\n",
      "  warn(\n",
      "/Users/daeun/opt/anaconda3/lib/python3.8/site-packages/sklearn/ensemble/_forest.py:400: FutureWarning: Criterion 'mse' was deprecated in v1.0 and will be removed in version 1.2. Use `criterion='squared_error'` which is equivalent.\n",
      "  warn(\n",
      "/Users/daeun/opt/anaconda3/lib/python3.8/site-packages/sklearn/ensemble/_forest.py:400: FutureWarning: Criterion 'mse' was deprecated in v1.0 and will be removed in version 1.2. Use `criterion='squared_error'` which is equivalent.\n",
      "  warn(\n",
      "/Users/daeun/opt/anaconda3/lib/python3.8/site-packages/sklearn/ensemble/_forest.py:400: FutureWarning: Criterion 'mse' was deprecated in v1.0 and will be removed in version 1.2. Use `criterion='squared_error'` which is equivalent.\n",
      "  warn(\n",
      "/Users/daeun/opt/anaconda3/lib/python3.8/site-packages/sklearn/ensemble/_forest.py:400: FutureWarning: Criterion 'mse' was deprecated in v1.0 and will be removed in version 1.2. Use `criterion='squared_error'` which is equivalent.\n",
      "  warn(\n",
      "/Users/daeun/opt/anaconda3/lib/python3.8/site-packages/sklearn/ensemble/_forest.py:400: FutureWarning: Criterion 'mse' was deprecated in v1.0 and will be removed in version 1.2. Use `criterion='squared_error'` which is equivalent.\n",
      "  warn(\n",
      "/Users/daeun/opt/anaconda3/lib/python3.8/site-packages/sklearn/ensemble/_forest.py:400: FutureWarning: Criterion 'mse' was deprecated in v1.0 and will be removed in version 1.2. Use `criterion='squared_error'` which is equivalent.\n",
      "  warn(\n",
      "/Users/daeun/opt/anaconda3/lib/python3.8/site-packages/sklearn/ensemble/_forest.py:400: FutureWarning: Criterion 'mse' was deprecated in v1.0 and will be removed in version 1.2. Use `criterion='squared_error'` which is equivalent.\n",
      "  warn(\n",
      "/Users/daeun/opt/anaconda3/lib/python3.8/site-packages/sklearn/ensemble/_forest.py:400: FutureWarning: Criterion 'mse' was deprecated in v1.0 and will be removed in version 1.2. Use `criterion='squared_error'` which is equivalent.\n",
      "  warn(\n",
      "/Users/daeun/opt/anaconda3/lib/python3.8/site-packages/sklearn/ensemble/_forest.py:400: FutureWarning: Criterion 'mse' was deprecated in v1.0 and will be removed in version 1.2. Use `criterion='squared_error'` which is equivalent.\n",
      "  warn(\n",
      "/Users/daeun/opt/anaconda3/lib/python3.8/site-packages/sklearn/ensemble/_forest.py:400: FutureWarning: Criterion 'mse' was deprecated in v1.0 and will be removed in version 1.2. Use `criterion='squared_error'` which is equivalent.\n",
      "  warn(\n",
      "/Users/daeun/opt/anaconda3/lib/python3.8/site-packages/sklearn/ensemble/_forest.py:400: FutureWarning: Criterion 'mse' was deprecated in v1.0 and will be removed in version 1.2. Use `criterion='squared_error'` which is equivalent.\n",
      "  warn(\n",
      "/Users/daeun/opt/anaconda3/lib/python3.8/site-packages/sklearn/ensemble/_forest.py:400: FutureWarning: Criterion 'mse' was deprecated in v1.0 and will be removed in version 1.2. Use `criterion='squared_error'` which is equivalent.\n",
      "  warn(\n",
      "/Users/daeun/opt/anaconda3/lib/python3.8/site-packages/sklearn/ensemble/_forest.py:400: FutureWarning: Criterion 'mse' was deprecated in v1.0 and will be removed in version 1.2. Use `criterion='squared_error'` which is equivalent.\n",
      "  warn(\n",
      "/Users/daeun/opt/anaconda3/lib/python3.8/site-packages/sklearn/ensemble/_forest.py:400: FutureWarning: Criterion 'mse' was deprecated in v1.0 and will be removed in version 1.2. Use `criterion='squared_error'` which is equivalent.\n",
      "  warn(\n",
      "/Users/daeun/opt/anaconda3/lib/python3.8/site-packages/sklearn/ensemble/_forest.py:400: FutureWarning: Criterion 'mse' was deprecated in v1.0 and will be removed in version 1.2. Use `criterion='squared_error'` which is equivalent.\n",
      "  warn(\n",
      "/Users/daeun/opt/anaconda3/lib/python3.8/site-packages/sklearn/ensemble/_forest.py:400: FutureWarning: Criterion 'mse' was deprecated in v1.0 and will be removed in version 1.2. Use `criterion='squared_error'` which is equivalent.\n",
      "  warn(\n",
      "/Users/daeun/opt/anaconda3/lib/python3.8/site-packages/sklearn/ensemble/_forest.py:400: FutureWarning: Criterion 'mse' was deprecated in v1.0 and will be removed in version 1.2. Use `criterion='squared_error'` which is equivalent.\n",
      "  warn(\n",
      "/Users/daeun/opt/anaconda3/lib/python3.8/site-packages/sklearn/ensemble/_forest.py:400: FutureWarning: Criterion 'mse' was deprecated in v1.0 and will be removed in version 1.2. Use `criterion='squared_error'` which is equivalent.\n",
      "  warn(\n",
      "/Users/daeun/opt/anaconda3/lib/python3.8/site-packages/sklearn/ensemble/_forest.py:400: FutureWarning: Criterion 'mse' was deprecated in v1.0 and will be removed in version 1.2. Use `criterion='squared_error'` which is equivalent.\n",
      "  warn(\n",
      "/Users/daeun/opt/anaconda3/lib/python3.8/site-packages/sklearn/ensemble/_forest.py:400: FutureWarning: Criterion 'mse' was deprecated in v1.0 and will be removed in version 1.2. Use `criterion='squared_error'` which is equivalent.\n",
      "  warn(\n",
      "/Users/daeun/opt/anaconda3/lib/python3.8/site-packages/sklearn/ensemble/_forest.py:400: FutureWarning: Criterion 'mse' was deprecated in v1.0 and will be removed in version 1.2. Use `criterion='squared_error'` which is equivalent.\n",
      "  warn(\n",
      "/Users/daeun/opt/anaconda3/lib/python3.8/site-packages/sklearn/ensemble/_forest.py:400: FutureWarning: Criterion 'mse' was deprecated in v1.0 and will be removed in version 1.2. Use `criterion='squared_error'` which is equivalent.\n",
      "  warn(\n",
      "/Users/daeun/opt/anaconda3/lib/python3.8/site-packages/sklearn/ensemble/_forest.py:400: FutureWarning: Criterion 'mse' was deprecated in v1.0 and will be removed in version 1.2. Use `criterion='squared_error'` which is equivalent.\n",
      "  warn(\n",
      "/Users/daeun/opt/anaconda3/lib/python3.8/site-packages/sklearn/ensemble/_forest.py:400: FutureWarning: Criterion 'mse' was deprecated in v1.0 and will be removed in version 1.2. Use `criterion='squared_error'` which is equivalent.\n",
      "  warn(\n",
      "/Users/daeun/opt/anaconda3/lib/python3.8/site-packages/sklearn/ensemble/_forest.py:400: FutureWarning: Criterion 'mse' was deprecated in v1.0 and will be removed in version 1.2. Use `criterion='squared_error'` which is equivalent.\n",
      "  warn(\n",
      "/Users/daeun/opt/anaconda3/lib/python3.8/site-packages/sklearn/ensemble/_forest.py:400: FutureWarning: Criterion 'mse' was deprecated in v1.0 and will be removed in version 1.2. Use `criterion='squared_error'` which is equivalent.\n",
      "  warn(\n",
      "/Users/daeun/opt/anaconda3/lib/python3.8/site-packages/sklearn/ensemble/_forest.py:400: FutureWarning: Criterion 'mse' was deprecated in v1.0 and will be removed in version 1.2. Use `criterion='squared_error'` which is equivalent.\n",
      "  warn(\n",
      "/Users/daeun/opt/anaconda3/lib/python3.8/site-packages/sklearn/ensemble/_forest.py:400: FutureWarning: Criterion 'mse' was deprecated in v1.0 and will be removed in version 1.2. Use `criterion='squared_error'` which is equivalent.\n",
      "  warn(\n"
     ]
    }
   ],
   "source": [
    "submission.to_csv('sub2.csv',index=False)"
   ]
  },
  {
   "cell_type": "markdown",
   "id": "5e5c7987",
   "metadata": {},
   "source": [
    "# Review"
   ]
  },
  {
   "cell_type": "code",
   "execution_count": 55,
   "id": "cbaf9c0a",
   "metadata": {},
   "outputs": [],
   "source": [
    "train = pd.read_csv('train.csv')\n",
    "test = pd.read_csv('test.csv')"
   ]
  },
  {
   "cell_type": "code",
   "execution_count": 56,
   "id": "a0ea54d9",
   "metadata": {},
   "outputs": [
    {
     "data": {
      "text/html": [
       "<div>\n",
       "<style scoped>\n",
       "    .dataframe tbody tr th:only-of-type {\n",
       "        vertical-align: middle;\n",
       "    }\n",
       "\n",
       "    .dataframe tbody tr th {\n",
       "        vertical-align: top;\n",
       "    }\n",
       "\n",
       "    .dataframe thead th {\n",
       "        text-align: right;\n",
       "    }\n",
       "</style>\n",
       "<table border=\"1\" class=\"dataframe\">\n",
       "  <thead>\n",
       "    <tr style=\"text-align: right;\">\n",
       "      <th></th>\n",
       "      <th>id</th>\n",
       "      <th>hour</th>\n",
       "      <th>hour_bef_temperature</th>\n",
       "      <th>hour_bef_precipitation</th>\n",
       "      <th>hour_bef_windspeed</th>\n",
       "      <th>hour_bef_humidity</th>\n",
       "      <th>hour_bef_visibility</th>\n",
       "      <th>hour_bef_ozone</th>\n",
       "      <th>hour_bef_pm10</th>\n",
       "      <th>hour_bef_pm2.5</th>\n",
       "      <th>count</th>\n",
       "    </tr>\n",
       "  </thead>\n",
       "  <tbody>\n",
       "    <tr>\n",
       "      <th>0</th>\n",
       "      <td>3</td>\n",
       "      <td>20</td>\n",
       "      <td>16.3</td>\n",
       "      <td>1.0</td>\n",
       "      <td>1.5</td>\n",
       "      <td>89.0</td>\n",
       "      <td>576.0</td>\n",
       "      <td>0.027</td>\n",
       "      <td>76.0</td>\n",
       "      <td>33.0</td>\n",
       "      <td>49.0</td>\n",
       "    </tr>\n",
       "    <tr>\n",
       "      <th>1</th>\n",
       "      <td>6</td>\n",
       "      <td>13</td>\n",
       "      <td>20.1</td>\n",
       "      <td>0.0</td>\n",
       "      <td>1.4</td>\n",
       "      <td>48.0</td>\n",
       "      <td>916.0</td>\n",
       "      <td>0.042</td>\n",
       "      <td>73.0</td>\n",
       "      <td>40.0</td>\n",
       "      <td>159.0</td>\n",
       "    </tr>\n",
       "    <tr>\n",
       "      <th>2</th>\n",
       "      <td>7</td>\n",
       "      <td>6</td>\n",
       "      <td>13.9</td>\n",
       "      <td>0.0</td>\n",
       "      <td>0.7</td>\n",
       "      <td>79.0</td>\n",
       "      <td>1382.0</td>\n",
       "      <td>0.033</td>\n",
       "      <td>32.0</td>\n",
       "      <td>19.0</td>\n",
       "      <td>26.0</td>\n",
       "    </tr>\n",
       "    <tr>\n",
       "      <th>3</th>\n",
       "      <td>8</td>\n",
       "      <td>23</td>\n",
       "      <td>8.1</td>\n",
       "      <td>0.0</td>\n",
       "      <td>2.7</td>\n",
       "      <td>54.0</td>\n",
       "      <td>946.0</td>\n",
       "      <td>0.040</td>\n",
       "      <td>75.0</td>\n",
       "      <td>64.0</td>\n",
       "      <td>57.0</td>\n",
       "    </tr>\n",
       "    <tr>\n",
       "      <th>4</th>\n",
       "      <td>9</td>\n",
       "      <td>18</td>\n",
       "      <td>29.5</td>\n",
       "      <td>0.0</td>\n",
       "      <td>4.8</td>\n",
       "      <td>7.0</td>\n",
       "      <td>2000.0</td>\n",
       "      <td>0.057</td>\n",
       "      <td>27.0</td>\n",
       "      <td>11.0</td>\n",
       "      <td>431.0</td>\n",
       "    </tr>\n",
       "  </tbody>\n",
       "</table>\n",
       "</div>"
      ],
      "text/plain": [
       "   id  hour  hour_bef_temperature  hour_bef_precipitation  hour_bef_windspeed  \\\n",
       "0   3    20                  16.3                     1.0                 1.5   \n",
       "1   6    13                  20.1                     0.0                 1.4   \n",
       "2   7     6                  13.9                     0.0                 0.7   \n",
       "3   8    23                   8.1                     0.0                 2.7   \n",
       "4   9    18                  29.5                     0.0                 4.8   \n",
       "\n",
       "   hour_bef_humidity  hour_bef_visibility  hour_bef_ozone  hour_bef_pm10  \\\n",
       "0               89.0                576.0           0.027           76.0   \n",
       "1               48.0                916.0           0.042           73.0   \n",
       "2               79.0               1382.0           0.033           32.0   \n",
       "3               54.0                946.0           0.040           75.0   \n",
       "4                7.0               2000.0           0.057           27.0   \n",
       "\n",
       "   hour_bef_pm2.5  count  \n",
       "0            33.0   49.0  \n",
       "1            40.0  159.0  \n",
       "2            19.0   26.0  \n",
       "3            64.0   57.0  \n",
       "4            11.0  431.0  "
      ]
     },
     "execution_count": 56,
     "metadata": {},
     "output_type": "execute_result"
    }
   ],
   "source": [
    "train.head()"
   ]
  },
  {
   "cell_type": "code",
   "execution_count": 57,
   "id": "18aa5801",
   "metadata": {},
   "outputs": [
    {
     "data": {
      "text/html": [
       "<div>\n",
       "<style scoped>\n",
       "    .dataframe tbody tr th:only-of-type {\n",
       "        vertical-align: middle;\n",
       "    }\n",
       "\n",
       "    .dataframe tbody tr th {\n",
       "        vertical-align: top;\n",
       "    }\n",
       "\n",
       "    .dataframe thead th {\n",
       "        text-align: right;\n",
       "    }\n",
       "</style>\n",
       "<table border=\"1\" class=\"dataframe\">\n",
       "  <thead>\n",
       "    <tr style=\"text-align: right;\">\n",
       "      <th></th>\n",
       "      <th>id</th>\n",
       "      <th>hour</th>\n",
       "      <th>hour_bef_temperature</th>\n",
       "      <th>hour_bef_precipitation</th>\n",
       "      <th>hour_bef_windspeed</th>\n",
       "      <th>hour_bef_humidity</th>\n",
       "      <th>hour_bef_visibility</th>\n",
       "      <th>hour_bef_ozone</th>\n",
       "      <th>hour_bef_pm10</th>\n",
       "      <th>hour_bef_pm2.5</th>\n",
       "    </tr>\n",
       "  </thead>\n",
       "  <tbody>\n",
       "    <tr>\n",
       "      <th>0</th>\n",
       "      <td>0</td>\n",
       "      <td>7</td>\n",
       "      <td>20.7</td>\n",
       "      <td>0.0</td>\n",
       "      <td>1.3</td>\n",
       "      <td>62.0</td>\n",
       "      <td>954.0</td>\n",
       "      <td>0.041</td>\n",
       "      <td>44.0</td>\n",
       "      <td>27.0</td>\n",
       "    </tr>\n",
       "    <tr>\n",
       "      <th>1</th>\n",
       "      <td>1</td>\n",
       "      <td>17</td>\n",
       "      <td>30.0</td>\n",
       "      <td>0.0</td>\n",
       "      <td>5.4</td>\n",
       "      <td>33.0</td>\n",
       "      <td>1590.0</td>\n",
       "      <td>0.061</td>\n",
       "      <td>49.0</td>\n",
       "      <td>36.0</td>\n",
       "    </tr>\n",
       "    <tr>\n",
       "      <th>2</th>\n",
       "      <td>2</td>\n",
       "      <td>13</td>\n",
       "      <td>19.0</td>\n",
       "      <td>1.0</td>\n",
       "      <td>2.1</td>\n",
       "      <td>95.0</td>\n",
       "      <td>193.0</td>\n",
       "      <td>0.020</td>\n",
       "      <td>36.0</td>\n",
       "      <td>28.0</td>\n",
       "    </tr>\n",
       "    <tr>\n",
       "      <th>3</th>\n",
       "      <td>4</td>\n",
       "      <td>6</td>\n",
       "      <td>22.5</td>\n",
       "      <td>0.0</td>\n",
       "      <td>2.5</td>\n",
       "      <td>60.0</td>\n",
       "      <td>1185.0</td>\n",
       "      <td>0.027</td>\n",
       "      <td>52.0</td>\n",
       "      <td>38.0</td>\n",
       "    </tr>\n",
       "    <tr>\n",
       "      <th>4</th>\n",
       "      <td>5</td>\n",
       "      <td>22</td>\n",
       "      <td>14.6</td>\n",
       "      <td>1.0</td>\n",
       "      <td>3.4</td>\n",
       "      <td>93.0</td>\n",
       "      <td>218.0</td>\n",
       "      <td>0.041</td>\n",
       "      <td>18.0</td>\n",
       "      <td>15.0</td>\n",
       "    </tr>\n",
       "  </tbody>\n",
       "</table>\n",
       "</div>"
      ],
      "text/plain": [
       "   id  hour  hour_bef_temperature  hour_bef_precipitation  hour_bef_windspeed  \\\n",
       "0   0     7                  20.7                     0.0                 1.3   \n",
       "1   1    17                  30.0                     0.0                 5.4   \n",
       "2   2    13                  19.0                     1.0                 2.1   \n",
       "3   4     6                  22.5                     0.0                 2.5   \n",
       "4   5    22                  14.6                     1.0                 3.4   \n",
       "\n",
       "   hour_bef_humidity  hour_bef_visibility  hour_bef_ozone  hour_bef_pm10  \\\n",
       "0               62.0                954.0           0.041           44.0   \n",
       "1               33.0               1590.0           0.061           49.0   \n",
       "2               95.0                193.0           0.020           36.0   \n",
       "3               60.0               1185.0           0.027           52.0   \n",
       "4               93.0                218.0           0.041           18.0   \n",
       "\n",
       "   hour_bef_pm2.5  \n",
       "0            27.0  \n",
       "1            36.0  \n",
       "2            28.0  \n",
       "3            38.0  \n",
       "4            15.0  "
      ]
     },
     "execution_count": 57,
     "metadata": {},
     "output_type": "execute_result"
    }
   ],
   "source": [
    "test.head()"
   ]
  },
  {
   "cell_type": "code",
   "execution_count": 58,
   "id": "5e371582",
   "metadata": {},
   "outputs": [
    {
     "name": "stdout",
     "output_type": "stream",
     "text": [
      "train 행열 갯수: (1459, 11)\n",
      "test 행열 갯수: (1459, 11)\n"
     ]
    }
   ],
   "source": [
    "\n",
    "print('train 행열 갯수:', train.shape)\n",
    "print('test 행열 갯수:', train.shape)"
   ]
  },
  {
   "cell_type": "code",
   "execution_count": 59,
   "id": "a6519b5e",
   "metadata": {},
   "outputs": [
    {
     "data": {
      "text/plain": [
       "id                          0\n",
       "hour                        0\n",
       "hour_bef_temperature        2\n",
       "hour_bef_precipitation      2\n",
       "hour_bef_windspeed          9\n",
       "hour_bef_humidity           2\n",
       "hour_bef_visibility         2\n",
       "hour_bef_ozone             76\n",
       "hour_bef_pm10              90\n",
       "hour_bef_pm2.5            117\n",
       "count                       0\n",
       "dtype: int64"
      ]
     },
     "execution_count": 59,
     "metadata": {},
     "output_type": "execute_result"
    }
   ],
   "source": [
    "train.isnull().sum()"
   ]
  },
  {
   "cell_type": "code",
   "execution_count": 60,
   "id": "9ebf6f11",
   "metadata": {},
   "outputs": [
    {
     "data": {
      "text/plain": [
       "id                         0\n",
       "hour                       0\n",
       "hour_bef_temperature       1\n",
       "hour_bef_precipitation     1\n",
       "hour_bef_windspeed         1\n",
       "hour_bef_humidity          1\n",
       "hour_bef_visibility        1\n",
       "hour_bef_ozone            35\n",
       "hour_bef_pm10             37\n",
       "hour_bef_pm2.5            36\n",
       "dtype: int64"
      ]
     },
     "execution_count": 60,
     "metadata": {},
     "output_type": "execute_result"
    }
   ],
   "source": [
    "test.isnull().sum()"
   ]
  },
  {
   "cell_type": "code",
   "execution_count": 61,
   "id": "3b6fed53",
   "metadata": {},
   "outputs": [
    {
     "name": "stdout",
     "output_type": "stream",
     "text": [
      "<class 'pandas.core.frame.DataFrame'>\n",
      "RangeIndex: 1459 entries, 0 to 1458\n",
      "Data columns (total 11 columns):\n",
      " #   Column                  Non-Null Count  Dtype  \n",
      "---  ------                  --------------  -----  \n",
      " 0   id                      1459 non-null   int64  \n",
      " 1   hour                    1459 non-null   int64  \n",
      " 2   hour_bef_temperature    1457 non-null   float64\n",
      " 3   hour_bef_precipitation  1457 non-null   float64\n",
      " 4   hour_bef_windspeed      1450 non-null   float64\n",
      " 5   hour_bef_humidity       1457 non-null   float64\n",
      " 6   hour_bef_visibility     1457 non-null   float64\n",
      " 7   hour_bef_ozone          1383 non-null   float64\n",
      " 8   hour_bef_pm10           1369 non-null   float64\n",
      " 9   hour_bef_pm2.5          1342 non-null   float64\n",
      " 10  count                   1459 non-null   float64\n",
      "dtypes: float64(9), int64(2)\n",
      "memory usage: 125.5 KB\n"
     ]
    }
   ],
   "source": [
    "train.info()"
   ]
  },
  {
   "cell_type": "code",
   "execution_count": 62,
   "id": "285ac1f2",
   "metadata": {},
   "outputs": [
    {
     "name": "stdout",
     "output_type": "stream",
     "text": [
      "<class 'pandas.core.frame.DataFrame'>\n",
      "RangeIndex: 715 entries, 0 to 714\n",
      "Data columns (total 10 columns):\n",
      " #   Column                  Non-Null Count  Dtype  \n",
      "---  ------                  --------------  -----  \n",
      " 0   id                      715 non-null    int64  \n",
      " 1   hour                    715 non-null    int64  \n",
      " 2   hour_bef_temperature    714 non-null    float64\n",
      " 3   hour_bef_precipitation  714 non-null    float64\n",
      " 4   hour_bef_windspeed      714 non-null    float64\n",
      " 5   hour_bef_humidity       714 non-null    float64\n",
      " 6   hour_bef_visibility     714 non-null    float64\n",
      " 7   hour_bef_ozone          680 non-null    float64\n",
      " 8   hour_bef_pm10           678 non-null    float64\n",
      " 9   hour_bef_pm2.5          679 non-null    float64\n",
      "dtypes: float64(8), int64(2)\n",
      "memory usage: 56.0 KB\n"
     ]
    }
   ],
   "source": [
    "test.info()"
   ]
  },
  {
   "cell_type": "code",
   "execution_count": 63,
   "id": "ba3a1fe7",
   "metadata": {},
   "outputs": [
    {
     "data": {
      "text/html": [
       "<div>\n",
       "<style scoped>\n",
       "    .dataframe tbody tr th:only-of-type {\n",
       "        vertical-align: middle;\n",
       "    }\n",
       "\n",
       "    .dataframe tbody tr th {\n",
       "        vertical-align: top;\n",
       "    }\n",
       "\n",
       "    .dataframe thead th {\n",
       "        text-align: right;\n",
       "    }\n",
       "</style>\n",
       "<table border=\"1\" class=\"dataframe\">\n",
       "  <thead>\n",
       "    <tr style=\"text-align: right;\">\n",
       "      <th></th>\n",
       "      <th>id</th>\n",
       "      <th>hour</th>\n",
       "      <th>hour_bef_temperature</th>\n",
       "      <th>hour_bef_precipitation</th>\n",
       "      <th>hour_bef_windspeed</th>\n",
       "      <th>hour_bef_humidity</th>\n",
       "      <th>hour_bef_visibility</th>\n",
       "      <th>hour_bef_ozone</th>\n",
       "      <th>hour_bef_pm10</th>\n",
       "      <th>hour_bef_pm2.5</th>\n",
       "      <th>count</th>\n",
       "    </tr>\n",
       "  </thead>\n",
       "  <tbody>\n",
       "    <tr>\n",
       "      <th>count</th>\n",
       "      <td>1459.000000</td>\n",
       "      <td>1459.000000</td>\n",
       "      <td>1457.000000</td>\n",
       "      <td>1457.000000</td>\n",
       "      <td>1450.000000</td>\n",
       "      <td>1457.000000</td>\n",
       "      <td>1457.000000</td>\n",
       "      <td>1383.000000</td>\n",
       "      <td>1369.000000</td>\n",
       "      <td>1342.000000</td>\n",
       "      <td>1459.000000</td>\n",
       "    </tr>\n",
       "    <tr>\n",
       "      <th>mean</th>\n",
       "      <td>1105.914325</td>\n",
       "      <td>11.493489</td>\n",
       "      <td>16.717433</td>\n",
       "      <td>0.031572</td>\n",
       "      <td>2.479034</td>\n",
       "      <td>52.231297</td>\n",
       "      <td>1405.216884</td>\n",
       "      <td>0.039149</td>\n",
       "      <td>57.168736</td>\n",
       "      <td>30.327124</td>\n",
       "      <td>108.563400</td>\n",
       "    </tr>\n",
       "    <tr>\n",
       "      <th>std</th>\n",
       "      <td>631.338681</td>\n",
       "      <td>6.922790</td>\n",
       "      <td>5.239150</td>\n",
       "      <td>0.174917</td>\n",
       "      <td>1.378265</td>\n",
       "      <td>20.370387</td>\n",
       "      <td>583.131708</td>\n",
       "      <td>0.019509</td>\n",
       "      <td>31.771019</td>\n",
       "      <td>14.713252</td>\n",
       "      <td>82.631733</td>\n",
       "    </tr>\n",
       "    <tr>\n",
       "      <th>min</th>\n",
       "      <td>3.000000</td>\n",
       "      <td>0.000000</td>\n",
       "      <td>3.100000</td>\n",
       "      <td>0.000000</td>\n",
       "      <td>0.000000</td>\n",
       "      <td>7.000000</td>\n",
       "      <td>78.000000</td>\n",
       "      <td>0.003000</td>\n",
       "      <td>9.000000</td>\n",
       "      <td>8.000000</td>\n",
       "      <td>1.000000</td>\n",
       "    </tr>\n",
       "    <tr>\n",
       "      <th>25%</th>\n",
       "      <td>555.500000</td>\n",
       "      <td>5.500000</td>\n",
       "      <td>12.800000</td>\n",
       "      <td>0.000000</td>\n",
       "      <td>1.400000</td>\n",
       "      <td>36.000000</td>\n",
       "      <td>879.000000</td>\n",
       "      <td>0.025500</td>\n",
       "      <td>36.000000</td>\n",
       "      <td>20.000000</td>\n",
       "      <td>37.000000</td>\n",
       "    </tr>\n",
       "    <tr>\n",
       "      <th>50%</th>\n",
       "      <td>1115.000000</td>\n",
       "      <td>11.000000</td>\n",
       "      <td>16.600000</td>\n",
       "      <td>0.000000</td>\n",
       "      <td>2.300000</td>\n",
       "      <td>51.000000</td>\n",
       "      <td>1577.000000</td>\n",
       "      <td>0.039000</td>\n",
       "      <td>51.000000</td>\n",
       "      <td>26.000000</td>\n",
       "      <td>96.000000</td>\n",
       "    </tr>\n",
       "    <tr>\n",
       "      <th>75%</th>\n",
       "      <td>1651.000000</td>\n",
       "      <td>17.500000</td>\n",
       "      <td>20.100000</td>\n",
       "      <td>0.000000</td>\n",
       "      <td>3.400000</td>\n",
       "      <td>69.000000</td>\n",
       "      <td>1994.000000</td>\n",
       "      <td>0.052000</td>\n",
       "      <td>69.000000</td>\n",
       "      <td>37.000000</td>\n",
       "      <td>150.000000</td>\n",
       "    </tr>\n",
       "    <tr>\n",
       "      <th>max</th>\n",
       "      <td>2179.000000</td>\n",
       "      <td>23.000000</td>\n",
       "      <td>30.000000</td>\n",
       "      <td>1.000000</td>\n",
       "      <td>8.000000</td>\n",
       "      <td>99.000000</td>\n",
       "      <td>2000.000000</td>\n",
       "      <td>0.125000</td>\n",
       "      <td>269.000000</td>\n",
       "      <td>90.000000</td>\n",
       "      <td>431.000000</td>\n",
       "    </tr>\n",
       "  </tbody>\n",
       "</table>\n",
       "</div>"
      ],
      "text/plain": [
       "                id         hour  hour_bef_temperature  hour_bef_precipitation  \\\n",
       "count  1459.000000  1459.000000           1457.000000             1457.000000   \n",
       "mean   1105.914325    11.493489             16.717433                0.031572   \n",
       "std     631.338681     6.922790              5.239150                0.174917   \n",
       "min       3.000000     0.000000              3.100000                0.000000   \n",
       "25%     555.500000     5.500000             12.800000                0.000000   \n",
       "50%    1115.000000    11.000000             16.600000                0.000000   \n",
       "75%    1651.000000    17.500000             20.100000                0.000000   \n",
       "max    2179.000000    23.000000             30.000000                1.000000   \n",
       "\n",
       "       hour_bef_windspeed  hour_bef_humidity  hour_bef_visibility  \\\n",
       "count         1450.000000        1457.000000          1457.000000   \n",
       "mean             2.479034          52.231297          1405.216884   \n",
       "std              1.378265          20.370387           583.131708   \n",
       "min              0.000000           7.000000            78.000000   \n",
       "25%              1.400000          36.000000           879.000000   \n",
       "50%              2.300000          51.000000          1577.000000   \n",
       "75%              3.400000          69.000000          1994.000000   \n",
       "max              8.000000          99.000000          2000.000000   \n",
       "\n",
       "       hour_bef_ozone  hour_bef_pm10  hour_bef_pm2.5        count  \n",
       "count     1383.000000    1369.000000     1342.000000  1459.000000  \n",
       "mean         0.039149      57.168736       30.327124   108.563400  \n",
       "std          0.019509      31.771019       14.713252    82.631733  \n",
       "min          0.003000       9.000000        8.000000     1.000000  \n",
       "25%          0.025500      36.000000       20.000000    37.000000  \n",
       "50%          0.039000      51.000000       26.000000    96.000000  \n",
       "75%          0.052000      69.000000       37.000000   150.000000  \n",
       "max          0.125000     269.000000       90.000000   431.000000  "
      ]
     },
     "execution_count": 63,
     "metadata": {},
     "output_type": "execute_result"
    }
   ],
   "source": [
    "train.describe()"
   ]
  },
  {
   "cell_type": "code",
   "execution_count": 64,
   "id": "05c29165",
   "metadata": {},
   "outputs": [],
   "source": [
    "import matplotlib\n",
    "import matplotlib.pyplot as plt\n",
    "import seaborn as sns\n",
    "\n",
    "plt.rc('axes', unicode_minus=False)\n",
    "import warnings\n",
    "warnings.filterwarnings('ignore')"
   ]
  },
  {
   "cell_type": "code",
   "execution_count": 65,
   "id": "d82c8540",
   "metadata": {},
   "outputs": [
    {
     "data": {
      "text/plain": [
       "<AxesSubplot:xlabel='count', ylabel='Count'>"
      ]
     },
     "execution_count": 65,
     "metadata": {},
     "output_type": "execute_result"
    },
    {
     "data": {
      "image/png": "[encoded data removed]",
      "text/plain": [
       "<Figure size 432x288 with 1 Axes>"
      ]
     },
     "metadata": {
      "needs_background": "light"
     },
     "output_type": "display_data"
    }
   ],
   "source": [
    "sns.histplot(train['count'])"
   ]
  },
  {
   "cell_type": "code",
   "execution_count": 66,
   "id": "0f0c987c",
   "metadata": {},
   "outputs": [
    {
     "data": {
      "text/html": [
       "<div>\n",
       "<style scoped>\n",
       "    .dataframe tbody tr th:only-of-type {\n",
       "        vertical-align: middle;\n",
       "    }\n",
       "\n",
       "    .dataframe tbody tr th {\n",
       "        vertical-align: top;\n",
       "    }\n",
       "\n",
       "    .dataframe thead th {\n",
       "        text-align: right;\n",
       "    }\n",
       "</style>\n",
       "<table border=\"1\" class=\"dataframe\">\n",
       "  <thead>\n",
       "    <tr style=\"text-align: right;\">\n",
       "      <th></th>\n",
       "      <th>id</th>\n",
       "      <th>hour</th>\n",
       "      <th>hour_bef_temperature</th>\n",
       "      <th>hour_bef_precipitation</th>\n",
       "      <th>hour_bef_windspeed</th>\n",
       "      <th>hour_bef_humidity</th>\n",
       "      <th>hour_bef_visibility</th>\n",
       "      <th>hour_bef_ozone</th>\n",
       "      <th>hour_bef_pm10</th>\n",
       "      <th>hour_bef_pm2.5</th>\n",
       "      <th>count</th>\n",
       "    </tr>\n",
       "  </thead>\n",
       "  <tbody>\n",
       "    <tr>\n",
       "      <th>id</th>\n",
       "      <td>1.000000</td>\n",
       "      <td>-0.010901</td>\n",
       "      <td>-0.000029</td>\n",
       "      <td>-0.056267</td>\n",
       "      <td>-0.003353</td>\n",
       "      <td>-0.017948</td>\n",
       "      <td>0.008950</td>\n",
       "      <td>0.055234</td>\n",
       "      <td>-0.025510</td>\n",
       "      <td>0.003545</td>\n",
       "      <td>-0.002131</td>\n",
       "    </tr>\n",
       "    <tr>\n",
       "      <th>hour</th>\n",
       "      <td>-0.010901</td>\n",
       "      <td>1.000000</td>\n",
       "      <td>0.407306</td>\n",
       "      <td>0.021646</td>\n",
       "      <td>0.462797</td>\n",
       "      <td>-0.329612</td>\n",
       "      <td>0.176491</td>\n",
       "      <td>0.390188</td>\n",
       "      <td>-0.035907</td>\n",
       "      <td>-0.061229</td>\n",
       "      <td>0.626047</td>\n",
       "    </tr>\n",
       "    <tr>\n",
       "      <th>hour_bef_temperature</th>\n",
       "      <td>-0.000029</td>\n",
       "      <td>0.407306</td>\n",
       "      <td>1.000000</td>\n",
       "      <td>-0.097056</td>\n",
       "      <td>0.375618</td>\n",
       "      <td>-0.496088</td>\n",
       "      <td>0.197417</td>\n",
       "      <td>0.541228</td>\n",
       "      <td>-0.003830</td>\n",
       "      <td>-0.078665</td>\n",
       "      <td>0.619404</td>\n",
       "    </tr>\n",
       "    <tr>\n",
       "      <th>hour_bef_precipitation</th>\n",
       "      <td>-0.056267</td>\n",
       "      <td>0.021646</td>\n",
       "      <td>-0.097056</td>\n",
       "      <td>1.000000</td>\n",
       "      <td>0.022746</td>\n",
       "      <td>0.276481</td>\n",
       "      <td>-0.217155</td>\n",
       "      <td>-0.062461</td>\n",
       "      <td>-0.051266</td>\n",
       "      <td>0.004742</td>\n",
       "      <td>-0.163985</td>\n",
       "    </tr>\n",
       "    <tr>\n",
       "      <th>hour_bef_windspeed</th>\n",
       "      <td>-0.003353</td>\n",
       "      <td>0.462797</td>\n",
       "      <td>0.375618</td>\n",
       "      <td>0.022746</td>\n",
       "      <td>1.000000</td>\n",
       "      <td>-0.433012</td>\n",
       "      <td>0.252092</td>\n",
       "      <td>0.520526</td>\n",
       "      <td>0.010176</td>\n",
       "      <td>-0.199113</td>\n",
       "      <td>0.459906</td>\n",
       "    </tr>\n",
       "    <tr>\n",
       "      <th>hour_bef_humidity</th>\n",
       "      <td>-0.017948</td>\n",
       "      <td>-0.329612</td>\n",
       "      <td>-0.496088</td>\n",
       "      <td>0.276481</td>\n",
       "      <td>-0.433012</td>\n",
       "      <td>1.000000</td>\n",
       "      <td>-0.592244</td>\n",
       "      <td>-0.421047</td>\n",
       "      <td>-0.108106</td>\n",
       "      <td>0.167736</td>\n",
       "      <td>-0.471142</td>\n",
       "    </tr>\n",
       "    <tr>\n",
       "      <th>hour_bef_visibility</th>\n",
       "      <td>0.008950</td>\n",
       "      <td>0.176491</td>\n",
       "      <td>0.197417</td>\n",
       "      <td>-0.217155</td>\n",
       "      <td>0.252092</td>\n",
       "      <td>-0.592244</td>\n",
       "      <td>1.000000</td>\n",
       "      <td>0.101899</td>\n",
       "      <td>-0.403277</td>\n",
       "      <td>-0.644989</td>\n",
       "      <td>0.299094</td>\n",
       "    </tr>\n",
       "    <tr>\n",
       "      <th>hour_bef_ozone</th>\n",
       "      <td>0.055234</td>\n",
       "      <td>0.390188</td>\n",
       "      <td>0.541228</td>\n",
       "      <td>-0.062461</td>\n",
       "      <td>0.520526</td>\n",
       "      <td>-0.421047</td>\n",
       "      <td>0.101899</td>\n",
       "      <td>1.000000</td>\n",
       "      <td>0.113015</td>\n",
       "      <td>0.017313</td>\n",
       "      <td>0.477614</td>\n",
       "    </tr>\n",
       "    <tr>\n",
       "      <th>hour_bef_pm10</th>\n",
       "      <td>-0.025510</td>\n",
       "      <td>-0.035907</td>\n",
       "      <td>-0.003830</td>\n",
       "      <td>-0.051266</td>\n",
       "      <td>0.010176</td>\n",
       "      <td>-0.108106</td>\n",
       "      <td>-0.403277</td>\n",
       "      <td>0.113015</td>\n",
       "      <td>1.000000</td>\n",
       "      <td>0.489558</td>\n",
       "      <td>-0.114288</td>\n",
       "    </tr>\n",
       "    <tr>\n",
       "      <th>hour_bef_pm2.5</th>\n",
       "      <td>0.003545</td>\n",
       "      <td>-0.061229</td>\n",
       "      <td>-0.078665</td>\n",
       "      <td>0.004742</td>\n",
       "      <td>-0.199113</td>\n",
       "      <td>0.167736</td>\n",
       "      <td>-0.644989</td>\n",
       "      <td>0.017313</td>\n",
       "      <td>0.489558</td>\n",
       "      <td>1.000000</td>\n",
       "      <td>-0.134293</td>\n",
       "    </tr>\n",
       "    <tr>\n",
       "      <th>count</th>\n",
       "      <td>-0.002131</td>\n",
       "      <td>0.626047</td>\n",
       "      <td>0.619404</td>\n",
       "      <td>-0.163985</td>\n",
       "      <td>0.459906</td>\n",
       "      <td>-0.471142</td>\n",
       "      <td>0.299094</td>\n",
       "      <td>0.477614</td>\n",
       "      <td>-0.114288</td>\n",
       "      <td>-0.134293</td>\n",
       "      <td>1.000000</td>\n",
       "    </tr>\n",
       "  </tbody>\n",
       "</table>\n",
       "</div>"
      ],
      "text/plain": [
       "                              id      hour  hour_bef_temperature  \\\n",
       "id                      1.000000 -0.010901             -0.000029   \n",
       "hour                   -0.010901  1.000000              0.407306   \n",
       "hour_bef_temperature   -0.000029  0.407306              1.000000   \n",
       "hour_bef_precipitation -0.056267  0.021646             -0.097056   \n",
       "hour_bef_windspeed     -0.003353  0.462797              0.375618   \n",
       "hour_bef_humidity      -0.017948 -0.329612             -0.496088   \n",
       "hour_bef_visibility     0.008950  0.176491              0.197417   \n",
       "hour_bef_ozone          0.055234  0.390188              0.541228   \n",
       "hour_bef_pm10          -0.025510 -0.035907             -0.003830   \n",
       "hour_bef_pm2.5          0.003545 -0.061229             -0.078665   \n",
       "count                  -0.002131  0.626047              0.619404   \n",
       "\n",
       "                        hour_bef_precipitation  hour_bef_windspeed  \\\n",
       "id                                   -0.056267           -0.003353   \n",
       "hour                                  0.021646            0.462797   \n",
       "hour_bef_temperature                 -0.097056            0.375618   \n",
       "hour_bef_precipitation                1.000000            0.022746   \n",
       "hour_bef_windspeed                    0.022746            1.000000   \n",
       "hour_bef_humidity                     0.276481           -0.433012   \n",
       "hour_bef_visibility                  -0.217155            0.252092   \n",
       "hour_bef_ozone                       -0.062461            0.520526   \n",
       "hour_bef_pm10                        -0.051266            0.010176   \n",
       "hour_bef_pm2.5                        0.004742           -0.199113   \n",
       "count                                -0.163985            0.459906   \n",
       "\n",
       "                        hour_bef_humidity  hour_bef_visibility  \\\n",
       "id                              -0.017948             0.008950   \n",
       "hour                            -0.329612             0.176491   \n",
       "hour_bef_temperature            -0.496088             0.197417   \n",
       "hour_bef_precipitation           0.276481            -0.217155   \n",
       "hour_bef_windspeed              -0.433012             0.252092   \n",
       "hour_bef_humidity                1.000000            -0.592244   \n",
       "hour_bef_visibility             -0.592244             1.000000   \n",
       "hour_bef_ozone                  -0.421047             0.101899   \n",
       "hour_bef_pm10                   -0.108106            -0.403277   \n",
       "hour_bef_pm2.5                   0.167736            -0.644989   \n",
       "count                           -0.471142             0.299094   \n",
       "\n",
       "                        hour_bef_ozone  hour_bef_pm10  hour_bef_pm2.5  \\\n",
       "id                            0.055234      -0.025510        0.003545   \n",
       "hour                          0.390188      -0.035907       -0.061229   \n",
       "hour_bef_temperature          0.541228      -0.003830       -0.078665   \n",
       "hour_bef_precipitation       -0.062461      -0.051266        0.004742   \n",
       "hour_bef_windspeed            0.520526       0.010176       -0.199113   \n",
       "hour_bef_humidity            -0.421047      -0.108106        0.167736   \n",
       "hour_bef_visibility           0.101899      -0.403277       -0.644989   \n",
       "hour_bef_ozone                1.000000       0.113015        0.017313   \n",
       "hour_bef_pm10                 0.113015       1.000000        0.489558   \n",
       "hour_bef_pm2.5                0.017313       0.489558        1.000000   \n",
       "count                         0.477614      -0.114288       -0.134293   \n",
       "\n",
       "                           count  \n",
       "id                     -0.002131  \n",
       "hour                    0.626047  \n",
       "hour_bef_temperature    0.619404  \n",
       "hour_bef_precipitation -0.163985  \n",
       "hour_bef_windspeed      0.459906  \n",
       "hour_bef_humidity      -0.471142  \n",
       "hour_bef_visibility     0.299094  \n",
       "hour_bef_ozone          0.477614  \n",
       "hour_bef_pm10          -0.114288  \n",
       "hour_bef_pm2.5         -0.134293  \n",
       "count                   1.000000  "
      ]
     },
     "execution_count": 66,
     "metadata": {},
     "output_type": "execute_result"
    }
   ],
   "source": [
    "train.corr()"
   ]
  },
  {
   "cell_type": "code",
   "execution_count": 69,
   "id": "291680dd",
   "metadata": {},
   "outputs": [
    {
     "data": {
      "text/plain": [
       "<AxesSubplot:>"
      ]
     },
     "execution_count": 69,
     "metadata": {},
     "output_type": "execute_result"
    },
    {
     "data": {
      "image/png": "[encoded data removed]",
      "text/plain": [
       "<Figure size 864x864 with 2 Axes>"
      ]
     },
     "metadata": {
      "needs_background": "light"
     },
     "output_type": "display_data"
    }
   ],
   "source": [
    "plt.figure(figsize=(12,12))\n",
    "sns.heatmap(train.corr(), annot=True,cmap='Blues')\n"
   ]
  },
  {
   "cell_type": "code",
   "execution_count": 68,
   "id": "1eeb729f",
   "metadata": {},
   "outputs": [
    {
     "data": {
      "text/plain": [
       "<AxesSubplot:xlabel='hour', ylabel='count'>"
      ]
     },
     "execution_count": 68,
     "metadata": {},
     "output_type": "execute_result"
    },
    {
     "data": {
      "image/png": "[encoded data removed]",
      "text/plain": [
       "<Figure size 432x288 with 1 Axes>"
      ]
     },
     "metadata": {
      "needs_background": "light"
     },
     "output_type": "display_data"
    }
   ],
   "source": [
    "sns.barplot(x='hour', y='count', data=train)"
   ]
  },
  {
   "cell_type": "code",
   "execution_count": 70,
   "id": "8903e4e4",
   "metadata": {},
   "outputs": [],
   "source": [
    "train.fillna(train.mean(), inplace=True)\n",
    "test.fillna(test.mean(), inplace=True)"
   ]
  },
  {
   "cell_type": "code",
   "execution_count": 71,
   "id": "120adc80",
   "metadata": {},
   "outputs": [
    {
     "data": {
      "image/png": "[encoded data removed]",
      "text/plain": [
       "<Figure size 288x288 with 1 Axes>"
      ]
     },
     "metadata": {
      "needs_background": "light"
     },
     "output_type": "display_data"
    },
    {
     "data": {
      "image/png": "[encoded data removed]",
      "text/plain": [
       "<Figure size 288x288 with 1 Axes>"
      ]
     },
     "metadata": {
      "needs_background": "light"
     },
     "output_type": "display_data"
    },
    {
     "data": {
      "image/png": "[encoded data removed]",
      "text/plain": [
       "<Figure size 288x288 with 1 Axes>"
      ]
     },
     "metadata": {
      "needs_background": "light"
     },
     "output_type": "display_data"
    },
    {
     "data": {
      "image/png": "[encoded data removed]",
      "text/plain": [
       "<Figure size 288x288 with 1 Axes>"
      ]
     },
     "metadata": {
      "needs_background": "light"
     },
     "output_type": "display_data"
    },
    {
     "data": {
      "image/png": "[encoded data removed]",
      "text/plain": [
       "<Figure size 288x288 with 1 Axes>"
      ]
     },
     "metadata": {
      "needs_background": "light"
     },
     "output_type": "display_data"
    },
    {
     "data": {
      "image/png": "[encoded data removed]",
      "text/plain": [
       "<Figure size 288x288 with 1 Axes>"
      ]
     },
     "metadata": {
      "needs_background": "light"
     },
     "output_type": "display_data"
    },
    {
     "data": {
      "image/png": "[encoded data removed]",
      "text/plain": [
       "<Figure size 288x288 with 1 Axes>"
      ]
     },
     "metadata": {
      "needs_background": "light"
     },
     "output_type": "display_data"
    },
    {
     "data": {
      "image/png": "[encoded data removed]",
      "text/plain": [
       "<Figure size 288x288 with 1 Axes>"
      ]
     },
     "metadata": {
      "needs_background": "light"
     },
     "output_type": "display_data"
    },
    {
     "data": {
      "image/png": "[encoded data removed]",
      "text/plain": [
       "<Figure size 288x288 with 1 Axes>"
      ]
     },
     "metadata": {
      "needs_background": "light"
     },
     "output_type": "display_data"
    },
    {
     "data": {
      "image/png": "[encoded data removed]",
      "text/plain": [
       "<Figure size 288x288 with 1 Axes>"
      ]
     },
     "metadata": {
      "needs_background": "light"
     },
     "output_type": "display_data"
    },
    {
     "data": {
      "image/png": "[encoded data removed]",
      "text/plain": [
       "<Figure size 288x288 with 1 Axes>"
      ]
     },
     "metadata": {
      "needs_background": "light"
     },
     "output_type": "display_data"
    }
   ],
   "source": [
    "for col in train.columns:\n",
    "    plt.figure(figsize=(4,4))\n",
    "    plt.title(col)\n",
    "    sns.histplot(train[col])\n",
    "    plt.show()\n",
    "    "
   ]
  },
  {
   "cell_type": "code",
   "execution_count": 72,
   "id": "3deed130",
   "metadata": {},
   "outputs": [
    {
     "data": {
      "text/plain": [
       "<AxesSubplot:xlabel='hour_bef_pm2.5', ylabel='Count'>"
      ]
     },
     "execution_count": 72,
     "metadata": {},
     "output_type": "execute_result"
    },
    {
     "data": {
      "image/png": "[encoded data removed]",
      "text/plain": [
       "<Figure size 432x288 with 1 Axes>"
      ]
     },
     "metadata": {
      "needs_background": "light"
     },
     "output_type": "display_data"
    }
   ],
   "source": [
    "\n",
    "test['hour_bef_pm2.5'] = np.log1p(test['hour_bef_pm2.5'])\n",
    "test['hour_bef_pm10'] = np.log1p(test['hour_bef_pm10'])\n",
    "\n",
    "sns.histplot(train['hour_bef_pm2.5'])\n",
    "\n"
   ]
  },
  {
   "cell_type": "code",
   "execution_count": 73,
   "id": "e70274d6",
   "metadata": {},
   "outputs": [],
   "source": [
    "from sklearn.ensemble import RandomForestRegressor\n",
    "model = RandomForestRegressor()"
   ]
  },
  {
   "cell_type": "code",
   "execution_count": 74,
   "id": "227f2c2c",
   "metadata": {},
   "outputs": [],
   "source": [
    "X_train = train.drop(['id', 'count'], axis = 1)\n",
    "y_train = train['count']\n",
    "X_test = test.drop('id', axis = 1)"
   ]
  },
  {
   "cell_type": "code",
   "execution_count": 75,
   "id": "1779386f",
   "metadata": {},
   "outputs": [],
   "source": [
    "from sklearn.model_selection import GridSearchCV"
   ]
  },
  {
   "cell_type": "code",
   "execution_count": 76,
   "id": "9aa96d7a",
   "metadata": {},
   "outputs": [
    {
     "data": {
      "text/html": [
       "<style>#sk-container-id-7 {color: black;background-color: white;}#sk-container-id-7 pre{padding: 0;}#sk-container-id-7 div.sk-toggleable {background-color: white;}#sk-container-id-7 label.sk-toggleable__label {cursor: pointer;display: block;width: 100%;margin-bottom: 0;padding: 0.3em;box-sizing: border-box;text-align: center;}#sk-container-id-7 label.sk-toggleable__label-arrow:before {content: \"▸\";float: left;margin-right: 0.25em;color: #696969;}#sk-container-id-7 label.sk-toggleable__label-arrow:hover:before {color: black;}#sk-container-id-7 div.sk-estimator:hover label.sk-toggleable__label-arrow:before {color: black;}#sk-container-id-7 div.sk-toggleable__content {max-height: 0;max-width: 0;overflow: hidden;text-align: left;background-color: #f0f8ff;}#sk-container-id-7 div.sk-toggleable__content pre {margin: 0.2em;color: black;border-radius: 0.25em;background-color: #f0f8ff;}#sk-container-id-7 input.sk-toggleable__control:checked~div.sk-toggleable__content {max-height: 200px;max-width: 100%;overflow: auto;}#sk-container-id-7 input.sk-toggleable__control:checked~label.sk-toggleable__label-arrow:before {content: \"▾\";}#sk-container-id-7 div.sk-estimator input.sk-toggleable__control:checked~label.sk-toggleable__label {background-color: #d4ebff;}#sk-container-id-7 div.sk-label input.sk-toggleable__control:checked~label.sk-toggleable__label {background-color: #d4ebff;}#sk-container-id-7 input.sk-hidden--visually {border: 0;clip: rect(1px 1px 1px 1px);clip: rect(1px, 1px, 1px, 1px);height: 1px;margin: -1px;overflow: hidden;padding: 0;position: absolute;width: 1px;}#sk-container-id-7 div.sk-estimator {font-family: monospace;background-color: #f0f8ff;border: 1px dotted black;border-radius: 0.25em;box-sizing: border-box;margin-bottom: 0.5em;}#sk-container-id-7 div.sk-estimator:hover {background-color: #d4ebff;}#sk-container-id-7 div.sk-parallel-item::after {content: \"\";width: 100%;border-bottom: 1px solid gray;flex-grow: 1;}#sk-container-id-7 div.sk-label:hover label.sk-toggleable__label {background-color: #d4ebff;}#sk-container-id-7 div.sk-serial::before {content: \"\";position: absolute;border-left: 1px solid gray;box-sizing: border-box;top: 0;bottom: 0;left: 50%;z-index: 0;}#sk-container-id-7 div.sk-serial {display: flex;flex-direction: column;align-items: center;background-color: white;padding-right: 0.2em;padding-left: 0.2em;position: relative;}#sk-container-id-7 div.sk-item {position: relative;z-index: 1;}#sk-container-id-7 div.sk-parallel {display: flex;align-items: stretch;justify-content: center;background-color: white;position: relative;}#sk-container-id-7 div.sk-item::before, #sk-container-id-7 div.sk-parallel-item::before {content: \"\";position: absolute;border-left: 1px solid gray;box-sizing: border-box;top: 0;bottom: 0;left: 50%;z-index: -1;}#sk-container-id-7 div.sk-parallel-item {display: flex;flex-direction: column;z-index: 1;position: relative;background-color: white;}#sk-container-id-7 div.sk-parallel-item:first-child::after {align-self: flex-end;width: 50%;}#sk-container-id-7 div.sk-parallel-item:last-child::after {align-self: flex-start;width: 50%;}#sk-container-id-7 div.sk-parallel-item:only-child::after {width: 0;}#sk-container-id-7 div.sk-dashed-wrapped {border: 1px dashed gray;margin: 0 0.4em 0.5em 0.4em;box-sizing: border-box;padding-bottom: 0.4em;background-color: white;}#sk-container-id-7 div.sk-label label {font-family: monospace;font-weight: bold;display: inline-block;line-height: 1.2em;}#sk-container-id-7 div.sk-label-container {text-align: center;}#sk-container-id-7 div.sk-container {/* jupyter's `normalize.less` sets `[hidden] { display: none; }` but bootstrap.min.css set `[hidden] { display: none !important; }` so we also need the `!important` here to be able to override the default hidden behavior on the sphinx rendered scikit-learn.org. See: https://github.com/scikit-learn/scikit-learn/issues/21755 */display: inline-block !important;position: relative;}#sk-container-id-7 div.sk-text-repr-fallback {display: none;}</style><div id=\"sk-container-id-7\" class=\"sk-top-container\"><div class=\"sk-text-repr-fallback\"><pre>RandomForestRegressor()</pre><b>In a Jupyter environment, please rerun this cell to show the HTML representation or trust the notebook. <br />On GitHub, the HTML representation is unable to render, please try loading this page with nbviewer.org.</b></div><div class=\"sk-container\" hidden><div class=\"sk-item\"><div class=\"sk-estimator sk-toggleable\"><input class=\"sk-toggleable__control sk-hidden--visually\" id=\"sk-estimator-id-9\" type=\"checkbox\" checked><label for=\"sk-estimator-id-9\" class=\"sk-toggleable__label sk-toggleable__label-arrow\">RandomForestRegressor</label><div class=\"sk-toggleable__content\"><pre>RandomForestRegressor()</pre></div></div></div></div></div>"
      ],
      "text/plain": [
       "RandomForestRegressor()"
      ]
     },
     "execution_count": 76,
     "metadata": {},
     "output_type": "execute_result"
    }
   ],
   "source": [
    "RandomForestRegressor()"
   ]
  },
  {
   "cell_type": "code",
   "execution_count": 77,
   "id": "684522aa",
   "metadata": {},
   "outputs": [],
   "source": [
    "param = {'min_samples_split': [30, 50, 70],\n",
    "        'max_depth': [5, 6, 7],\n",
    "        'n_estimators': [50, 150, 250]}"
   ]
  },
  {
   "cell_type": "code",
   "execution_count": 78,
   "id": "7522e119",
   "metadata": {},
   "outputs": [],
   "source": [
    "gs = GridSearchCV(estimator=model, param_grid=param, scoring = 'neg_mean_squared_error', cv = 3)"
   ]
  },
  {
   "cell_type": "code",
   "execution_count": 79,
   "id": "f2492628",
   "metadata": {
    "scrolled": true
   },
   "outputs": [
    {
     "data": {
      "text/html": [
       "<style>#sk-container-id-8 {color: black;background-color: white;}#sk-container-id-8 pre{padding: 0;}#sk-container-id-8 div.sk-toggleable {background-color: white;}#sk-container-id-8 label.sk-toggleable__label {cursor: pointer;display: block;width: 100%;margin-bottom: 0;padding: 0.3em;box-sizing: border-box;text-align: center;}#sk-container-id-8 label.sk-toggleable__label-arrow:before {content: \"▸\";float: left;margin-right: 0.25em;color: #696969;}#sk-container-id-8 label.sk-toggleable__label-arrow:hover:before {color: black;}#sk-container-id-8 div.sk-estimator:hover label.sk-toggleable__label-arrow:before {color: black;}#sk-container-id-8 div.sk-toggleable__content {max-height: 0;max-width: 0;overflow: hidden;text-align: left;background-color: #f0f8ff;}#sk-container-id-8 div.sk-toggleable__content pre {margin: 0.2em;color: black;border-radius: 0.25em;background-color: #f0f8ff;}#sk-container-id-8 input.sk-toggleable__control:checked~div.sk-toggleable__content {max-height: 200px;max-width: 100%;overflow: auto;}#sk-container-id-8 input.sk-toggleable__control:checked~label.sk-toggleable__label-arrow:before {content: \"▾\";}#sk-container-id-8 div.sk-estimator input.sk-toggleable__control:checked~label.sk-toggleable__label {background-color: #d4ebff;}#sk-container-id-8 div.sk-label input.sk-toggleable__control:checked~label.sk-toggleable__label {background-color: #d4ebff;}#sk-container-id-8 input.sk-hidden--visually {border: 0;clip: rect(1px 1px 1px 1px);clip: rect(1px, 1px, 1px, 1px);height: 1px;margin: -1px;overflow: hidden;padding: 0;position: absolute;width: 1px;}#sk-container-id-8 div.sk-estimator {font-family: monospace;background-color: #f0f8ff;border: 1px dotted black;border-radius: 0.25em;box-sizing: border-box;margin-bottom: 0.5em;}#sk-container-id-8 div.sk-estimator:hover {background-color: #d4ebff;}#sk-container-id-8 div.sk-parallel-item::after {content: \"\";width: 100%;border-bottom: 1px solid gray;flex-grow: 1;}#sk-container-id-8 div.sk-label:hover label.sk-toggleable__label {background-color: #d4ebff;}#sk-container-id-8 div.sk-serial::before {content: \"\";position: absolute;border-left: 1px solid gray;box-sizing: border-box;top: 0;bottom: 0;left: 50%;z-index: 0;}#sk-container-id-8 div.sk-serial {display: flex;flex-direction: column;align-items: center;background-color: white;padding-right: 0.2em;padding-left: 0.2em;position: relative;}#sk-container-id-8 div.sk-item {position: relative;z-index: 1;}#sk-container-id-8 div.sk-parallel {display: flex;align-items: stretch;justify-content: center;background-color: white;position: relative;}#sk-container-id-8 div.sk-item::before, #sk-container-id-8 div.sk-parallel-item::before {content: \"\";position: absolute;border-left: 1px solid gray;box-sizing: border-box;top: 0;bottom: 0;left: 50%;z-index: -1;}#sk-container-id-8 div.sk-parallel-item {display: flex;flex-direction: column;z-index: 1;position: relative;background-color: white;}#sk-container-id-8 div.sk-parallel-item:first-child::after {align-self: flex-end;width: 50%;}#sk-container-id-8 div.sk-parallel-item:last-child::after {align-self: flex-start;width: 50%;}#sk-container-id-8 div.sk-parallel-item:only-child::after {width: 0;}#sk-container-id-8 div.sk-dashed-wrapped {border: 1px dashed gray;margin: 0 0.4em 0.5em 0.4em;box-sizing: border-box;padding-bottom: 0.4em;background-color: white;}#sk-container-id-8 div.sk-label label {font-family: monospace;font-weight: bold;display: inline-block;line-height: 1.2em;}#sk-container-id-8 div.sk-label-container {text-align: center;}#sk-container-id-8 div.sk-container {/* jupyter's `normalize.less` sets `[hidden] { display: none; }` but bootstrap.min.css set `[hidden] { display: none !important; }` so we also need the `!important` here to be able to override the default hidden behavior on the sphinx rendered scikit-learn.org. See: https://github.com/scikit-learn/scikit-learn/issues/21755 */display: inline-block !important;position: relative;}#sk-container-id-8 div.sk-text-repr-fallback {display: none;}</style><div id=\"sk-container-id-8\" class=\"sk-top-container\"><div class=\"sk-text-repr-fallback\"><pre>GridSearchCV(cv=3, estimator=RandomForestRegressor(),\n",
       "             param_grid={&#x27;max_depth&#x27;: [5, 6, 7],\n",
       "                         &#x27;min_samples_split&#x27;: [30, 50, 70],\n",
       "                         &#x27;n_estimators&#x27;: [50, 150, 250]},\n",
       "             scoring=&#x27;neg_mean_squared_error&#x27;)</pre><b>In a Jupyter environment, please rerun this cell to show the HTML representation or trust the notebook. <br />On GitHub, the HTML representation is unable to render, please try loading this page with nbviewer.org.</b></div><div class=\"sk-container\" hidden><div class=\"sk-item sk-dashed-wrapped\"><div class=\"sk-label-container\"><div class=\"sk-label sk-toggleable\"><input class=\"sk-toggleable__control sk-hidden--visually\" id=\"sk-estimator-id-10\" type=\"checkbox\" ><label for=\"sk-estimator-id-10\" class=\"sk-toggleable__label sk-toggleable__label-arrow\">GridSearchCV</label><div class=\"sk-toggleable__content\"><pre>GridSearchCV(cv=3, estimator=RandomForestRegressor(),\n",
       "             param_grid={&#x27;max_depth&#x27;: [5, 6, 7],\n",
       "                         &#x27;min_samples_split&#x27;: [30, 50, 70],\n",
       "                         &#x27;n_estimators&#x27;: [50, 150, 250]},\n",
       "             scoring=&#x27;neg_mean_squared_error&#x27;)</pre></div></div></div><div class=\"sk-parallel\"><div class=\"sk-parallel-item\"><div class=\"sk-item\"><div class=\"sk-label-container\"><div class=\"sk-label sk-toggleable\"><input class=\"sk-toggleable__control sk-hidden--visually\" id=\"sk-estimator-id-11\" type=\"checkbox\" ><label for=\"sk-estimator-id-11\" class=\"sk-toggleable__label sk-toggleable__label-arrow\">estimator: RandomForestRegressor</label><div class=\"sk-toggleable__content\"><pre>RandomForestRegressor()</pre></div></div></div><div class=\"sk-serial\"><div class=\"sk-item\"><div class=\"sk-estimator sk-toggleable\"><input class=\"sk-toggleable__control sk-hidden--visually\" id=\"sk-estimator-id-12\" type=\"checkbox\" ><label for=\"sk-estimator-id-12\" class=\"sk-toggleable__label sk-toggleable__label-arrow\">RandomForestRegressor</label><div class=\"sk-toggleable__content\"><pre>RandomForestRegressor()</pre></div></div></div></div></div></div></div></div></div></div>"
      ],
      "text/plain": [
       "GridSearchCV(cv=3, estimator=RandomForestRegressor(),\n",
       "             param_grid={'max_depth': [5, 6, 7],\n",
       "                         'min_samples_split': [30, 50, 70],\n",
       "                         'n_estimators': [50, 150, 250]},\n",
       "             scoring='neg_mean_squared_error')"
      ]
     },
     "execution_count": 79,
     "metadata": {},
     "output_type": "execute_result"
    }
   ],
   "source": [
    "gs.fit(X_train, y_train)"
   ]
  },
  {
   "cell_type": "code",
   "execution_count": 80,
   "id": "22f3cb75",
   "metadata": {},
   "outputs": [],
   "source": [
    "submission = pd.read_csv('submission.csv')\n",
    "pred = gs.predict(X_test)\n",
    "submission['count']=pred\n",
    "submission.to_csv('gridsearch.csv', index=False)"
   ]
  },
  {
   "cell_type": "code",
   "execution_count": null,
   "id": "f863b38b",
   "metadata": {},
   "outputs": [],
   "source": []
  }
 ],
 "metadata": {
  "kernelspec": {
   "display_name": "Python 3 (ipykernel)",
   "language": "python",
   "name": "python3"
  },
  "language_info": {
   "codemirror_mode": {
    "name": "ipython",
    "version": 3
   },
   "file_extension": ".py",
   "mimetype": "text/x-python",
   "name": "python",
   "nbconvert_exporter": "python",
   "pygments_lexer": "ipython3",
   "version": "3.8.11"
  },
  "toc": {
   "base_numbering": 1,
   "nav_menu": {},
   "number_sections": true,
   "sideBar": true,
   "skip_h1_title": false,
   "title_cell": "Table of Contents",
   "title_sidebar": "Contents",
   "toc_cell": false,
   "toc_position": {},
   "toc_section_display": true,
   "toc_window_display": false
  }
 },
 "nbformat": 4,
 "nbformat_minor": 5
}
